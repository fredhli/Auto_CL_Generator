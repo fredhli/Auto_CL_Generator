{
 "cells": [
  {
   "cell_type": "markdown",
   "metadata": {},
   "source": [
    "# Input Job by Job\n",
    "Change this section every time  \n",
    "Close PDF Reader APP to avoid error messages"
   ]
  },
  {
   "cell_type": "markdown",
   "metadata": {},
   "source": [
    "## Job Description"
   ]
  },
  {
   "cell_type": "code",
   "execution_count": 1,
   "metadata": {},
   "outputs": [],
   "source": [
    "job_title = \"Derivative Valuation Analyst\""
   ]
  },
  {
   "cell_type": "code",
   "execution_count": 2,
   "metadata": {},
   "outputs": [],
   "source": [
    "jd = \"\"\"\n",
    "About the job\n",
    "Job Summary\n",
    "\n",
    "Job Description\n",
    "\n",
    "What is the opportunity?\n",
    "\n",
    "The Derivative Valuation Analyst is responsible for the timely and accurate analysis, valuation, validation and reconciliation of Listed, OTC (Over the Counter) Bilateral and OTC Cleared Derivatives, as well as of alternative investment products, impacting key lines of business including fund services, pension reporting, insurance reporting, custody reporting and all value added services.\n",
    "\n",
    "Please note, this position may cover a late and/or rotating shift schedule.\n",
    "\n",
    "What will you do?\n",
    "\n",
    "Perform the daily\n",
    "Routine tasks such as setup of Listed Derivatives and OTC Derivatives, in Valuation systems\n",
    "Tasks for listed Derivatives pricing and analyzing price movements\n",
    "OTC/alternative instruments valuation and measure impact of the daily changes in market data inputs to value of the instrument\n",
    "Reconciliation against third party statements\n",
    "Act as the main liaison with Investment Managers and the internal Trades processing team on new deals and supports the communication of deal price variances that exceed tolerances to the Investment Managers and obtain confirmation\n",
    "Participate in research of appropriate valuation methodology for new complex OTC products traded by clients\n",
    "Participate in the execution around key project deliverables and identify opportunities to stream line processes and increase productivity\n",
    "Ensure compliance with all policies, procedures and standards for all aspects of the business as defined through Risk, Compliance, Operational reviews and audits\n",
    "Cover early/late shifts to support the business within global operating model\n",
    "\n",
    "What do you need to succeed?\n",
    "\n",
    "Must-have:\n",
    "\n",
    "Undergraduate Degree in Finance, Math or Engineering\n",
    "2+ years of solid experience with Derivatives in a middle or back office environment\n",
    "Experience with OTC Derivatives valuation systems and Workflows\n",
    "Strong understanding of Reuters, Bloomberg and other financial data providers\n",
    "Strong PC skills (advanced proficiency in MS Excel, some knowledge of basic coding such as VBA)\n",
    "\n",
    "What's in it for you?\n",
    "\n",
    "We thrive on the challenge to be our best, progressive thinking to keep growing, and working together to deliver trusted advice to help our clients thrive and communities prosper. We care about each other, reaching our potential, making a difference to our communities, and achieving success that is mutual.\n",
    "\n",
    "Excellent exposure to communicate with various business partners and stakeholders in Investor Services and within other platforms as appropriate\n",
    "Opportunity to obtain hands-on experience throughout your role\n",
    "Working with an exciting, close-knit, supportive & dynamic group\n",
    "Opportunity to collaborate with other business segments within the bank\n",
    "Excellent career development and progression opportunities\n",
    "A comprehensive Total Rewards Program including bonuses and flexible benefits\n",
    "Competitive compensation\n",
    "\n",
    "Job Skills\n",
    "\n",
    "Active Learning, Adaptability, Business Appraisals, Critical Thinking, Customer Service, Decision Making, Effectiveness Measurement, Operational Delivery, Process Improvements\n",
    "\n",
    "Additional Job Details\n",
    "\n",
    "Address:\n",
    "\n",
    "RBC CENTRE, 155 WELLINGTON ST W:TORONTO\n",
    "\n",
    "City:\n",
    "\n",
    "TORONTO\n",
    "\n",
    "Country:\n",
    "\n",
    "Canada\n",
    "\n",
    "Work hours/week:\n",
    "\n",
    "37.5\n",
    "\n",
    "Employment Type:\n",
    "\n",
    "Full time\n",
    "\n",
    "Platform:\n",
    "\n",
    "WEALTH MANAGEMENT\n",
    "\n",
    "Job Type:\n",
    "\n",
    "Regular\n",
    "\n",
    "Pay Type:\n",
    "\n",
    "Salaried\n",
    "\n",
    "Posted Date:\n",
    "\n",
    "2024-10-17\n",
    "\n",
    "Application Deadline:\n",
    "\n",
    "2024-11-27\n",
    "\n",
    "Note: Applications will be accepted until 11:59 PM on the day prior to the application deadline date above\n",
    "\n",
    "Inclusion and Equal Opportunity Employment\n",
    "\n",
    "At RBC, we embrace diversity and inclusion for innovation and growth. We are committed to building inclusive teams and an equitable workplace for our employees to bring their true selves to work. We are taking actions to tackle issues of inequity and systemic bias to support our diverse talent, clients and communities.\n",
    "\n",
    "We also strive to provide an accessible candidate experience for our prospective employees with different abilities. Please let us know if you need any accommodations during the recruitment process.\n",
    "\n",
    "Join our Talent Community\n",
    "\n",
    "Stay in-the-know about great career opportunities at RBC. Sign up and get customized info on our latest jobs, career tips and Recruitment events that matter to you.\n",
    "\n",
    "Expand your limits and create a new future together at RBC. Find out how we use our passion and drive to enhance the well-being of our clients and communities\n",
    "\"\"\"\n",
    "# Paste job description above"
   ]
  },
  {
   "cell_type": "markdown",
   "metadata": {},
   "source": [
    "## Company info  \n",
    "You can leave the address blank, Google Map API will help you find the address."
   ]
  },
  {
   "cell_type": "code",
   "execution_count": 3,
   "metadata": {},
   "outputs": [],
   "source": [
    "company_name = \"RBC\"\n",
    "company_address_line_1 = \"RBC Centre\"\n",
    "company_address_line_2 = \"155 Wellington St W\"\n",
    "company_city = \"Toronto\"\n",
    "company_state_two_letter = \"ON\"\n",
    "company_country = \"Canada\""
   ]
  },
  {
   "cell_type": "markdown",
   "metadata": {},
   "source": [
    "## Personal-specific Info Regarding This Role\n",
    "Do you have anything else to stress in your cover letter?"
   ]
  },
  {
   "cell_type": "code",
   "execution_count": 4,
   "metadata": {},
   "outputs": [],
   "source": [
    "additional_strength_to_mention = \"\"\"\n",
    "- I got A+ in Advanced Derivative Pricing course, I am expert in exotic derivatives pricing.\n",
    "- Hands-on Experience in Short Straddle Option Strategy.\n",
    "- Knowledge in VBA, Python, and SQL.\n",
    "- Eligible to work in Canada without a sponsorship.\n",
    "\"\"\""
   ]
  },
  {
   "cell_type": "markdown",
   "metadata": {},
   "source": [
    "Which version of CV do you want to use?"
   ]
  },
  {
   "cell_type": "code",
   "execution_count": 5,
   "metadata": {},
   "outputs": [],
   "source": [
    "cv_type = \"trader\"\n",
    "# cv_type = \"operation\"\n",
    "# cv_type = \"risk\"\n",
    "# cv_type = \"pan_finance\""
   ]
  },
  {
   "cell_type": "markdown",
   "metadata": {},
   "source": [
    "# The Automation\n",
    "\n",
    "Do not change unless bugs appeared."
   ]
  },
  {
   "cell_type": "code",
   "execution_count": 6,
   "metadata": {},
   "outputs": [],
   "source": [
    "import os\n",
    "import re\n",
    "import shutil\n",
    "import pyperclip\n",
    "import pandas as pd\n",
    "\n",
    "from config import *\n",
    "from cv_info import *\n",
    "from gpt_functions import *\n",
    "from gmap_functions import *\n",
    "from notion_functions import *\n",
    "\n",
    "from docx2pdf import convert\n",
    "from datetime import datetime\n",
    "from PyPDF2 import PdfFileReader, PdfFileWriter"
   ]
  },
  {
   "cell_type": "markdown",
   "metadata": {},
   "source": [
    "CV Location and Version, change it in `cv_info.py`"
   ]
  },
  {
   "cell_type": "code",
   "execution_count": 7,
   "metadata": {},
   "outputs": [],
   "source": [
    "cv_to_use = get_cv(cv_type)\n",
    "cv_location = cv_location(cv_folder, cv_type)"
   ]
  },
  {
   "cell_type": "markdown",
   "metadata": {},
   "source": [
    "Chromedriver Location"
   ]
  },
  {
   "cell_type": "code",
   "execution_count": 8,
   "metadata": {},
   "outputs": [],
   "source": [
    "path_to_chromedriver, service, options = ready_for_chromedriver(\n",
    "    binary_location, path_to_chromedriver\n",
    ")"
   ]
  },
  {
   "cell_type": "code",
   "execution_count": 9,
   "metadata": {},
   "outputs": [],
   "source": [
    "jd = jd.replace(\"–\", \"-\").replace(\"'\", \"'\")"
   ]
  },
  {
   "cell_type": "markdown",
   "metadata": {},
   "source": [
    "# Get Company Location Straight"
   ]
  },
  {
   "cell_type": "code",
   "execution_count": 10,
   "metadata": {},
   "outputs": [],
   "source": [
    "prompt_companyinfo = query_companyinfo(jd)"
   ]
  },
  {
   "cell_type": "code",
   "execution_count": 11,
   "metadata": {},
   "outputs": [],
   "source": [
    "info = chatgpt(\"gpt-4o-mini\", prompt_companyinfo)"
   ]
  },
  {
   "cell_type": "code",
   "execution_count": 12,
   "metadata": {},
   "outputs": [],
   "source": [
    "(\n",
    "    valid_info,\n",
    "    company_name,\n",
    "    company_address_line_1,\n",
    "    company_address_line_2,\n",
    "    company_city,\n",
    "    company_state_two_letter,\n",
    "    company_country,\n",
    ") = company_info(\n",
    "    info,\n",
    "    company_name,\n",
    "    company_address_line_1,\n",
    "    company_address_line_2,\n",
    "    company_city,\n",
    "    company_state_two_letter,\n",
    "    company_country,\n",
    ")"
   ]
  },
  {
   "cell_type": "code",
   "execution_count": 13,
   "metadata": {},
   "outputs": [
    {
     "name": "stdout",
     "output_type": "stream",
     "text": [
      "Company Name: RBC\n",
      "Company Address Line 1: RBC Centre\n",
      "Company Address Line 2: 155 Wellington St W\n",
      "City: Toronto\n",
      "State: ON\n",
      "Country: Canada\n"
     ]
    }
   ],
   "source": [
    "print(f\"Company Name: {company_name}\")\n",
    "print(f\"Company Address Line 1: {company_address_line_1}\")\n",
    "print(f\"Company Address Line 2: {company_address_line_2}\")\n",
    "print(f\"City: {company_city}\")\n",
    "print(f\"State: {company_state_two_letter}\")\n",
    "print(f\"Country: {company_country}\")"
   ]
  },
  {
   "cell_type": "markdown",
   "metadata": {},
   "source": [
    "Check Area if any bug"
   ]
  },
  {
   "cell_type": "code",
   "execution_count": 14,
   "metadata": {},
   "outputs": [],
   "source": [
    "# info"
   ]
  },
  {
   "cell_type": "code",
   "execution_count": 15,
   "metadata": {},
   "outputs": [],
   "source": [
    "# info_test = info.replace(r\"\\n\\n\", r\"\\n\")\n",
    "# pattern = r\"\\*\\*Company Name:\\*\\*\\s*(.*?)\\s*\\n\\*\\*Company Address Line 1:\\*\\*\\s*(.*?)\\s*\\n\\*\\*Company Address Line 2:\\*\\*\\s*(.*?)\\s*\\n\\*\\*City:\\*\\*\\s*(.*?)\\s*\\n\\*\\*State:\\*\\*\\s*([A-Za-z]{2,})\\s*\"\n",
    "# results = re.match(pattern, info_test, re.DOTALL)\n",
    "# results.groups()"
   ]
  },
  {
   "cell_type": "code",
   "execution_count": 16,
   "metadata": {},
   "outputs": [],
   "source": [
    "can_continue, info_type = judge_info_type(\n",
    "    company_name, company_address_line_1, company_address_line_2, company_city\n",
    ")"
   ]
  },
  {
   "cell_type": "markdown",
   "metadata": {},
   "source": [
    "# Google Map API"
   ]
  },
  {
   "cell_type": "code",
   "execution_count": 17,
   "metadata": {},
   "outputs": [],
   "source": [
    "company_address_line_3 = \"\"\n",
    "\n",
    "if info_type == \"no_address\":\n",
    "    print(\"No address found, launching Google Maps search.\")\n",
    "    try:\n",
    "        company_address_line_1, company_address_line_2, company_address_line_3 = (\n",
    "            nearby_search_address(company_city, company_name, company_country)\n",
    "        )\n",
    "    except AssertionError:\n",
    "        beep(system_used)\n",
    "        company_address_line_1 = input(\n",
    "            \"No address found, please enter manually. Line 1: \"\n",
    "        )\n",
    "        beep(system_used)\n",
    "        company_address_line_2 = input(\"Please enter the address line 2: \")\n",
    "        if any(\n",
    "            x == \"\" for x in [company_city, company_state_two_letter, company_country]\n",
    "        ):\n",
    "            beep(system_used)\n",
    "            company_address_line_3 = input(\n",
    "                \"Please enter City, State Abbr, Country as line 3:\"\n",
    "            )\n",
    "        else:\n",
    "            company_address_line_3 = (\n",
    "                f\"{company_city}, {company_state_two_letter}, {company_country}\"\n",
    "            )\n",
    "\n",
    "if company_address_line_3 == \"\":\n",
    "    company_address_line_3 = (\n",
    "        f\"{company_city}, {company_state_two_letter}, {company_country}\"\n",
    "    )"
   ]
  },
  {
   "cell_type": "markdown",
   "metadata": {},
   "source": [
    "# Prompts and ChatGPT API"
   ]
  },
  {
   "cell_type": "markdown",
   "metadata": {},
   "source": [
    "## Step 1: Warn you if you applied before"
   ]
  },
  {
   "cell_type": "code",
   "execution_count": 18,
   "metadata": {},
   "outputs": [
    {
     "name": "stdout",
     "output_type": "stream",
     "text": [
      "                 Date Company Name                      Position Name  \\\n",
      "50  November 20, 2024          RBC                                NaN   \n",
      "51  November 20, 2024          RBC  With Derivative Valuation Analyst   \n",
      "52  November 20, 2024          RBC   **Derivative Valuation Analyst**   \n",
      "\n",
      "   Company City  \n",
      "50      Toronto  \n",
      "51      Toronto  \n",
      "52      Toronto  \n"
     ]
    }
   ],
   "source": [
    "df_path = f\"{root}/Application History.xlsx\"\n",
    "if os.path.exists(df_path):\n",
    "    df = pd.read_excel(df_path)\n",
    "    beep_or_not, message, temp = compare_jd(jd, company_name, df, threshold=90)\n",
    "    if len(temp) > 0:\n",
    "        print(temp)\n",
    "\n",
    "    if beep_or_not:\n",
    "        stat = msgbox_similar_application(message, temp, system_used)\n",
    "        if stat == \"halt\":\n",
    "            raise SystemExit"
   ]
  },
  {
   "cell_type": "markdown",
   "metadata": {},
   "source": [
    "## Step 2: Check if we need to combine pdf"
   ]
  },
  {
   "cell_type": "code",
   "execution_count": 19,
   "metadata": {},
   "outputs": [],
   "source": [
    "query_sthimportant = query_something_important(jd)"
   ]
  },
  {
   "cell_type": "code",
   "execution_count": 20,
   "metadata": {},
   "outputs": [
    {
     "name": "stdout",
     "output_type": "stream",
     "text": [
      "False\n"
     ]
    }
   ],
   "source": [
    "answer = chatgpt(\"gpt-4o-mini\", query_sthimportant)\n",
    "\n",
    "showed_popup_1 = judge_something_important(answer, package_folder, system_used)\n",
    "print(showed_popup_1)"
   ]
  },
  {
   "cell_type": "markdown",
   "metadata": {},
   "source": [
    "## Step 3: Any inportant keywords in JD that I did not mention"
   ]
  },
  {
   "cell_type": "code",
   "execution_count": 21,
   "metadata": {},
   "outputs": [
    {
     "name": "stdout",
     "output_type": "stream",
     "text": [
      "ATS Score: 85, you will pass this round of screening.\n",
      "\n",
      "Still, you may want to consider adding the following keywords:\n",
      "\n"
     ]
    }
   ],
   "source": [
    "extract_status, ats_score, missing_kw_list = extract_keywords(\n",
    "    jd, cv_to_use, company_name, company_country\n",
    ")\n",
    "\n",
    "if not extract_status:\n",
    "    assert False, \"Keyword extraction failed. Please check the logs.\"\n",
    "\n",
    "elif ats_score >= 70:\n",
    "    print(f\"ATS Score: {ats_score}, you will pass this round of screening.\\n\")\n",
    "    print(\"Still, you may want to consider adding the following keywords:\")\n",
    "    print(\"\\n\".join(missing_kw_list))\n",
    "\n",
    "else:\n",
    "    rec = show_popup_keyword(system_used, missing_kw_list, ats_score)\n",
    "    if rec == \"Decline suggestion\":\n",
    "        print(\"Process cancelled.\")\n",
    "    elif rec == \"Already changed\":\n",
    "        # shutil copy current cv to base.docx\n",
    "        shutil.copy(\n",
    "            cv_location.replace(\".pdf\", \".docx\"),\n",
    "            f\"{os.path.dirname(cv_location)}/base.docx\",\n",
    "        )\n",
    "        # Convert the docx file to pdf\n",
    "        base_docx_path = f\"{os.path.dirname(cv_location)}/base.docx\"\n",
    "        base_pdf_path = f\"{os.path.dirname(cv_location)}/base.pdf\"\n",
    "\n",
    "        # Convert the docx file to pdf\n",
    "        convert(base_docx_path, base_pdf_path)\n",
    "\n",
    "        # Read the PDF and keep only the first page\n",
    "        pdf_reader = PdfFileReader(base_pdf_path)\n",
    "        pdf_writer = PdfFileWriter()\n",
    "        pdf_writer.addPage(pdf_reader.getPage(0))\n",
    "\n",
    "        cv_path = f\"{os.path.dirname(cv_location)}/cv_with_keywords.pdf\"\n",
    "        with open(cv_path, \"wb\") as output_pdf:\n",
    "            pdf_writer.write(output_pdf)\n",
    "\n",
    "    else:\n",
    "        assert False, \"Invalid recommendation received.\""
   ]
  },
  {
   "cell_type": "markdown",
   "metadata": {},
   "source": [
    "## Step 4: Draft Cover Letter"
   ]
  },
  {
   "cell_type": "code",
   "execution_count": 22,
   "metadata": {},
   "outputs": [
    {
     "name": "stdout",
     "output_type": "stream",
     "text": [
      "RBC\n"
     ]
    }
   ],
   "source": [
    "print(company_name)"
   ]
  },
  {
   "cell_type": "code",
   "execution_count": 23,
   "metadata": {},
   "outputs": [],
   "source": [
    "if company_name == \"\" or company_name == \"None\":\n",
    "    assert False, \"Company name is empty.\"\n",
    "\n",
    "if additional_strength_to_mention.replace(\" \", \"\") == \"\":\n",
    "    additional_strength_to_mention = None\n",
    "\n",
    "prompt_cl = query_cover_letter(\n",
    "    one_sentence_bio,\n",
    "    cv_to_use,\n",
    "    jd,\n",
    "    company_name,\n",
    "    additional_strength_to_mention=additional_strength_to_mention,\n",
    ")"
   ]
  },
  {
   "cell_type": "code",
   "execution_count": 24,
   "metadata": {},
   "outputs": [
    {
     "name": "stdout",
     "output_type": "stream",
     "text": [
      "The content has been copied to the clipboard.\n",
      "\n",
      "I am writing to express my interest in the Derivative Valuation Analyst position at RBC. With a Master's degree in Quantitative Finance from Washington University in St. Louis and a strong background in derivative pricing and quantitative analysis, I am confident in my ability to contribute effectively to your team.\n",
      "\n",
      "During my studies, I achieved an **A+ in Advanced Derivative Pricing**, showcasing my expertise in exotic derivatives valuation. My hands-on experience with **short straddle option strategies** while co-managing a US$200 million portfolio at Privium Fund Management equipped me with practical knowledge in option pricing models such as Black-Scholes and Heston-Nandi GARCH.\n",
      "\n",
      "In my role as a Research Intern at Olin Business School, I developed tools using **Python, VBA, and SQL**, reflecting proficiency with programming languages essential for this position. I have also worked with financial data providers like Reuters and Bloomberg, aligning with the job requirements.\n",
      "\n",
      "What attracts me to RBC is the opportunity to work on the valuation of complex derivatives and alternative investment products. I am particularly drawn to the collaborative environment and the chance to contribute to projects that streamline processes and enhance productivity.\n",
      "\n",
      "Being eligible to work in Canada without sponsorship, I am excited about the prospect of joining your team and supporting RBC's commitment to delivering trusted advice and operational excellence.\n",
      "\n",
      "Thank you for considering my application. I look forward to the opportunity to discuss how my skills and experiences align with your needs.\n"
     ]
    }
   ],
   "source": [
    "answer = chatgpt(\"o1-preview\", prompt_cl, temp=1)\n",
    "match = re.search(\n",
    "    r\"Dear hiring manager,\\s*(.*)\\s*Sincerely,\", answer, re.DOTALL | re.IGNORECASE\n",
    ")\n",
    "\n",
    "if match:\n",
    "    extracted_text = match.group(1).strip()\n",
    "    pyperclip.copy(extracted_text)\n",
    "    print(\"The content has been copied to the clipboard.\")\n",
    "    print(\"\")\n",
    "    print(extracted_text)\n",
    "else:\n",
    "    print(\"The specified text was not found. Original answer:\")\n",
    "    print(answer)"
   ]
  },
  {
   "cell_type": "code",
   "execution_count": 25,
   "metadata": {},
   "outputs": [
    {
     "name": "stdout",
     "output_type": "stream",
     "text": [
      "No need to shrink the text. The original text is already less than 300 words: 239 words.\n"
     ]
    }
   ],
   "source": [
    "extracted_text = shrink_text(extracted_text, threshold=300)"
   ]
  },
  {
   "cell_type": "code",
   "execution_count": 26,
   "metadata": {},
   "outputs": [
    {
     "data": {
      "text/plain": [
       "239"
      ]
     },
     "execution_count": 26,
     "metadata": {},
     "output_type": "execute_result"
    }
   ],
   "source": [
    "word_count = len(extracted_text.split())\n",
    "word_count"
   ]
  },
  {
   "cell_type": "markdown",
   "metadata": {},
   "source": [
    "## Step 5: Get my best Title for this Job"
   ]
  },
  {
   "cell_type": "code",
   "execution_count": 27,
   "metadata": {},
   "outputs": [],
   "source": [
    "prompt_job_title = query_job_title(jd, cv_to_use, extracted_text)"
   ]
  },
  {
   "cell_type": "code",
   "execution_count": 28,
   "metadata": {},
   "outputs": [
    {
     "name": "stdout",
     "output_type": "stream",
     "text": [
      "**Derivative Valuation Analyst**\n"
     ]
    }
   ],
   "source": [
    "job_title = chatgpt(\"chatgpt-4o-latest\", prompt_job_title)\n",
    "\n",
    "if \"*\" not in job_title:\n",
    "    job_title = \"**\" + job_title + \"**\"\n",
    "print(job_title)"
   ]
  },
  {
   "cell_type": "markdown",
   "metadata": {},
   "source": [
    "# Notion"
   ]
  },
  {
   "cell_type": "code",
   "execution_count": 29,
   "metadata": {},
   "outputs": [
    {
     "name": "stdout",
     "output_type": "stream",
     "text": [
      "Found block with text: TBA Title\n",
      "Block 10ab1542-9002-80d4-abe7-ffca8866414d updated.\n",
      "True\n"
     ]
    }
   ],
   "source": [
    "replace_job_title_success, block_id = replace_simple(\"TBA Title\", job_title, page_id)\n",
    "print(replace_job_title_success)"
   ]
  },
  {
   "cell_type": "code",
   "execution_count": 30,
   "metadata": {},
   "outputs": [
    {
     "name": "stdout",
     "output_type": "stream",
     "text": [
      "Found block with text: TBA Date\n",
      "Block b87e1d4a-c6af-4e91-bf93-e928c0c44dbe updated.\n",
      "True\n"
     ]
    }
   ],
   "source": [
    "today = datetime.today().strftime(\"%B %d, %Y\")\n",
    "replace_date_success, block_id = replace_simple(\"TBA Date\", today, page_id)\n",
    "print(replace_date_success)"
   ]
  },
  {
   "cell_type": "code",
   "execution_count": 31,
   "metadata": {},
   "outputs": [],
   "source": [
    "if info_type == \"single_line\":\n",
    "    parsed_address = f\"Hiring Manager\\n{company_address_line_1}\\n{company_name}\\n{company_address_line_3}\"\n",
    "elif info_type == \"no_address\":\n",
    "    parsed_address = f\"Hiring Manager\\n{company_address_line_1}\\n{company_address_line_2}\\n{company_address_line_3}\"\n",
    "elif info_type == \"full_address\":\n",
    "    parsed_address = f\"Hiring Manager\\n{company_address_line_1}\\n{company_address_line_2}\\n{company_city}, {company_state_two_letter}, {company_country}\"\n",
    "else:\n",
    "    assert False, \"Invalid info_type\""
   ]
  },
  {
   "cell_type": "code",
   "execution_count": 32,
   "metadata": {},
   "outputs": [
    {
     "name": "stdout",
     "output_type": "stream",
     "text": [
      "Found block with text: TBA Address\n",
      "Block 10bb1542-9002-8099-a9a2-eb53beff1332 updated with color 'default'.\n"
     ]
    }
   ],
   "source": [
    "replace_address_success, block_id_address = replace_simple(\n",
    "    \"TBA Address\", parsed_address, page_id, change_color=True, color_to=\"default\"\n",
    ")"
   ]
  },
  {
   "cell_type": "code",
   "execution_count": 58,
   "metadata": {},
   "outputs": [
    {
     "name": "stdout",
     "output_type": "stream",
     "text": [
      "Found block with text: TBA Main Text\n",
      "Block 144b1542-9002-80e2-ba2a-d50cd1f640b1 updated.\n"
     ]
    }
   ],
   "source": [
    "import importlib\n",
    "import notion_functions\n",
    "importlib.reload(notion_functions)\n",
    "from notion_functions import *\n",
    "\n",
    "\n",
    "replace_main_text_success, block_id_main = replace_simple(\n",
    "    \"TBA Main Text\", extracted_text.strip(), page_id\n",
    ")"
   ]
  },
  {
   "cell_type": "code",
   "execution_count": 34,
   "metadata": {},
   "outputs": [
    {
     "name": "stdout",
     "output_type": "stream",
     "text": [
      "No TBA found, page is successful.\n",
      "Page is successful, proceeding to download PDF.\n",
      "PDF saved to ..//Cover Letter/Cover Letter - Fred Li.pdf\n"
     ]
    }
   ],
   "source": [
    "download_success = selenium_download_pdf(service, options, download_folder, website)"
   ]
  },
  {
   "cell_type": "markdown",
   "metadata": {},
   "source": [
    "# Parse PDF"
   ]
  },
  {
   "cell_type": "code",
   "execution_count": 35,
   "metadata": {},
   "outputs": [
    {
     "name": "stdout",
     "output_type": "stream",
     "text": [
      "Page 2 is blank. Removing...\n",
      "Saved PDF with 1 non-blank pages.\n"
     ]
    }
   ],
   "source": [
    "input_pdf_path = f\"{download_folder}/Cover Letter - {my_name}.pdf\"\n",
    "remove_blank_pages_from_pdf(input_pdf_path)"
   ]
  },
  {
   "cell_type": "markdown",
   "metadata": {},
   "source": [
    "# Copy CV, CL to Package Folder"
   ]
  },
  {
   "cell_type": "code",
   "execution_count": 36,
   "metadata": {},
   "outputs": [
    {
     "data": {
      "text/plain": [
       "'..//Cover Letter Backup/November 20, 2024_RBC_Toronto.pdf'"
      ]
     },
     "execution_count": 36,
     "metadata": {},
     "output_type": "execute_result"
    }
   ],
   "source": [
    "shutil.copy(cv_location, f\"{package_folder}/CV - {my_name}.pdf\")\n",
    "shutil.copy(\n",
    "    f\"{download_folder}/Cover Letter - {my_name}.pdf\",\n",
    "    f\"{package_folder}/Cover Letter - {my_name}.pdf\",\n",
    ")\n",
    "\n",
    "cl_backup_folder = f\"{root}/Cover Letter Backup\"\n",
    "shutil.copy(\n",
    "    f\"{package_folder}/Cover Letter - {my_name}.pdf\",\n",
    "    f\"{cl_backup_folder}/{today}_{company_name}_{company_city}.pdf\",\n",
    ")"
   ]
  },
  {
   "cell_type": "code",
   "execution_count": 37,
   "metadata": {},
   "outputs": [
    {
     "data": {
      "text/plain": [
       "True"
      ]
     },
     "execution_count": 37,
     "metadata": {},
     "output_type": "execute_result"
    }
   ],
   "source": [
    "# combine all three PDFs in package folder\n",
    "\n",
    "if showed_popup_1:\n",
    "    beep(system_used)\n",
    "    sequence = input(\n",
    "        \"Since GPT identified some modifications specefic to this JD, please enter the sequence of the PDFs to be combined, 1: CV; 2: CL; 3: Unofficial Transcript. e.g.: 123; 12; 13; 1, etc.\"\n",
    "    )\n",
    "else:\n",
    "    sequence = \"12\"\n",
    "\n",
    "merge_pdf(sequence, package_folder, my_name)"
   ]
  },
  {
   "cell_type": "markdown",
   "metadata": {},
   "source": [
    "# Recover to Template for next use"
   ]
  },
  {
   "cell_type": "code",
   "execution_count": 38,
   "metadata": {},
   "outputs": [
    {
     "name": "stdout",
     "output_type": "stream",
     "text": [
      "Found block with text: Derivative Valuation Analyst\n",
      "Block 10ab1542-9002-80d4-abe7-ffca8866414d updated.\n"
     ]
    },
    {
     "data": {
      "text/plain": [
       "(True, '10ab1542-9002-80d4-abe7-ffca8866414d')"
      ]
     },
     "execution_count": 38,
     "metadata": {},
     "output_type": "execute_result"
    }
   ],
   "source": [
    "replace_simple(job_title.replace(\"*\", \"\"), \"TBA Title\", page_id)"
   ]
  },
  {
   "cell_type": "code",
   "execution_count": 39,
   "metadata": {},
   "outputs": [
    {
     "name": "stdout",
     "output_type": "stream",
     "text": [
      "Found block with text: November 20, 2024\n",
      "Block b87e1d4a-c6af-4e91-bf93-e928c0c44dbe updated.\n"
     ]
    },
    {
     "data": {
      "text/plain": [
       "(True, 'b87e1d4a-c6af-4e91-bf93-e928c0c44dbe')"
      ]
     },
     "execution_count": 39,
     "metadata": {},
     "output_type": "execute_result"
    }
   ],
   "source": [
    "replace_simple(today, \"TBA Date\", page_id)"
   ]
  },
  {
   "cell_type": "code",
   "execution_count": 40,
   "metadata": {},
   "outputs": [
    {
     "name": "stdout",
     "output_type": "stream",
     "text": [
      "Found block with text: Hiring Manager\n",
      "RBC Centre\n",
      "155 Wellington St W\n",
      "Toronto, ON, Canada\n",
      "Block 10bb1542-9002-8099-a9a2-eb53beff1332 updated.\n"
     ]
    },
    {
     "data": {
      "text/plain": [
       "(True, '10bb1542-9002-8099-a9a2-eb53beff1332')"
      ]
     },
     "execution_count": 40,
     "metadata": {},
     "output_type": "execute_result"
    }
   ],
   "source": [
    "replace_simple(company_address_line_1, \"TBA Address\", page_id)"
   ]
  },
  {
   "cell_type": "code",
   "execution_count": 41,
   "metadata": {},
   "outputs": [
    {
     "name": "stdout",
     "output_type": "stream",
     "text": [
      "Updated block 9b0acf97-d6e5-4d2d-bd28-12fab599edf9 with new text.\n",
      "Updated block 9b0acf97-d6e5-4d2d-bd28-12fab599edf9 with new text.\n",
      "Updated block 144b1542-9002-803e-a812-c3ccbf78c840 with new text.\n",
      "Updated block 144b1542-9002-803e-a812-c3ccbf78c840 with new text.\n"
     ]
    },
    {
     "data": {
      "text/plain": [
       "True"
      ]
     },
     "execution_count": 41,
     "metadata": {},
     "output_type": "execute_result"
    }
   ],
   "source": [
    "blocks = get_page_blocks(page_id)\n",
    "\n",
    "start_text = \"Dear Hiring Manager,\"\n",
    "end_text = \"Sincerely,\"\n",
    "replacement_text = \"TBA Main Text\"\n",
    "\n",
    "replace_text_in_blocks(blocks, start_text, end_text, replacement_text)"
   ]
  },
  {
   "cell_type": "markdown",
   "metadata": {},
   "source": [
    "# Add Record"
   ]
  },
  {
   "cell_type": "code",
   "execution_count": 42,
   "metadata": {},
   "outputs": [],
   "source": [
    "df_path = f\"{root}/Application History.xlsx\"\n",
    "if not os.path.exists(df_path):\n",
    "    df = pd.DataFrame(\n",
    "        columns=[\n",
    "            \"Date\",\n",
    "            \"Company_Name\",\n",
    "            \"Position_Name\",\n",
    "            \"CV_Used\",\n",
    "            \"Company_City\",\n",
    "            \"Company_State\",\n",
    "            \"Cover_Letter\",\n",
    "            \"Original_JD\",\n",
    "        ]\n",
    "    )\n",
    "    df.to_excel(df_path, index=False)"
   ]
  },
  {
   "cell_type": "code",
   "execution_count": 43,
   "metadata": {},
   "outputs": [],
   "source": [
    "df = pd.read_excel(df_path, sheet_name=\"Sheet1\")"
   ]
  },
  {
   "cell_type": "code",
   "execution_count": 44,
   "metadata": {},
   "outputs": [],
   "source": [
    "first_sentence = extracted_text.split(\".\")[0]"
   ]
  },
  {
   "cell_type": "code",
   "execution_count": 45,
   "metadata": {},
   "outputs": [],
   "source": [
    "row = {\n",
    "    \"Date\": today,\n",
    "    \"Company Name\": company_name,\n",
    "    \"Position Name\": job_title,\n",
    "    \"Cover Letter\": f\"Cover Letter - {my_name}.pdf\",\n",
    "    \"CV Used\": cv_to_use,\n",
    "    \"Company City\": company_city,\n",
    "    \"Original_JD\": jd,\n",
    "}"
   ]
  },
  {
   "cell_type": "code",
   "execution_count": 46,
   "metadata": {},
   "outputs": [],
   "source": [
    "row_df = pd.DataFrame([row])\n",
    "df = pd.concat([df, row_df], ignore_index=True)\n",
    "df.fillna(\"\", inplace=True)\n",
    "df.drop_duplicates(subset=df.columns, keep=\"first\", inplace=True)"
   ]
  },
  {
   "cell_type": "code",
   "execution_count": 47,
   "metadata": {},
   "outputs": [],
   "source": [
    "df.to_excel(f\"{root}/Application History.xlsx\", index=False)"
   ]
  }
 ],
 "metadata": {
  "kernelspec": {
   "display_name": "base",
   "language": "python",
   "name": "python3"
  },
  "language_info": {
   "codemirror_mode": {
    "name": "ipython",
    "version": 3
   },
   "file_extension": ".py",
   "mimetype": "text/x-python",
   "name": "python",
   "nbconvert_exporter": "python",
   "pygments_lexer": "ipython3",
   "version": "3.12.2"
  }
 },
 "nbformat": 4,
 "nbformat_minor": 2
}
