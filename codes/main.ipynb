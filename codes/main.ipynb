{
 "cells": [
  {
   "cell_type": "markdown",
   "metadata": {},
   "source": [
    "# Input Job by Job\n",
    "Change this section every time  \n",
    "Close PDF Reader APP to avoid error messages"
   ]
  },
  {
   "cell_type": "markdown",
   "metadata": {},
   "source": [
    "## Job Description"
   ]
  },
  {
   "cell_type": "code",
   "execution_count": 35,
   "metadata": {},
   "outputs": [],
   "source": [
    "no_need_to_form_pdf = False\n",
    "# designed for job search websites where you can directly copy paste the cover letter without bolding keywords nor formatting a pdf"
   ]
  },
  {
   "cell_type": "code",
   "execution_count": 36,
   "metadata": {},
   "outputs": [],
   "source": [
    "job_title = \"Analyst, Operations\"\n",
    "\n",
    "jd = \"\"\"\n",
    "Country: Hong Kong\n",
    "To work with Senior Manager to control over day-to-day operations ensuring that the Bank's policies, operational guidelines are adhered to by team members, consistent delivery of quality services to clients and optimal utilization of available resources.\n",
    "\n",
    "Key Responsibilities\n",
    "1. Review Import/Export documents presented against LC terms and input to relevant trade system.\n",
    "2. Handle transactions of Discounting/ Forfeiting/ Import & Export Finance/ Factoring.\n",
    "3. Ensure transactions meeting service standard and in accordance with procedure manual.\n",
    "4. Conduct AML/ Sanction checking of transactions. Report any suspicious activities per policies and guidelines.\n",
    "5. Liaise with internal/external stakeholders including cross countries working partners to resolve Trade related issues.\n",
    "6. Perform ad hoc duties and projects assigned by Management as well as cross team support as required to Banking Operations.\n",
    "\n",
    "Requirements\n",
    "1. Bachelor degree in Business Administration, Operation Management, or related disciplines preferred with solid 3-5 year experience in Trade Services.\n",
    "2. Good knowledge in ICC UCP & URC and ISBP.\n",
    "3. Sound knowledge in operational risk framework and sensitive to identify irregularities.\n",
    "4. Exposure in SWIFT Alliance and Banking Systems.\n",
    "5. Proficient in both spoken and written English and Chinese (including Putonghua).\n",
    "6. Hands-on experience in MS Words & Excel.\n",
    "\"\"\""
   ]
  },
  {
   "cell_type": "markdown",
   "metadata": {},
   "source": [
    "## Company info  \n",
    "You can leave the address blank, Google Map API will help you find the address."
   ]
  },
  {
   "cell_type": "code",
   "execution_count": 37,
   "metadata": {},
   "outputs": [],
   "source": [
    "company_name = \"Santander\"\n",
    "company_address_line_1 = \"10/F, Two International Finance Centre\"\n",
    "company_address_line_2 = \"8 Finance Street, Central\"\n",
    "company_city = \"Hong Kong\"\n",
    "company_state_two_letter = \"HK\"\n",
    "company_country = \"Hong Kong\"  # US, Canada, HK"
   ]
  },
  {
   "cell_type": "markdown",
   "metadata": {},
   "source": [
    "## Personal-specific Info Regarding This Role\n",
    "Do you have anything else to stress in your cover letter?"
   ]
  },
  {
   "cell_type": "code",
   "execution_count": 38,
   "metadata": {},
   "outputs": [],
   "source": [
    "additional_strength_to_mention = \"\"\"\n",
    "- Extensive experience in fund accounting, fund management, and financial analysis\n",
    "- Strong knowledge of financial products, services, and investment strategies\n",
    "- Proficient in Bloomberg, FactSet\n",
    "- Hong Kong permanent resident\n",
    "\"\"\""
   ]
  },
  {
   "cell_type": "code",
   "execution_count": 39,
   "metadata": {},
   "outputs": [],
   "source": [
    "if company_country == \"Hong Kong\":\n",
    "    additional_strength_to_mention = (\n",
    "        \"- Stress my tie to Hong Kong (for example, my bachelor degree from University of Hong Kong, my Hong Kong permanent recidency, my trilingual, etc.), better stress it from the beginning, since Hong Kong HRs kind of oppose non-locals without a strong tie to Hong Kong. \\n\"\n",
    "        + additional_strength_to_mention\n",
    "    )"
   ]
  },
  {
   "cell_type": "markdown",
   "metadata": {},
   "source": [
    "Which version of CV do you want to use?"
   ]
  },
  {
   "cell_type": "code",
   "execution_count": 40,
   "metadata": {},
   "outputs": [],
   "source": [
    "# cv_type = \"trader\"\n",
    "# cv_type = \"trader_hk\"\n",
    "# cv_type = \"operation\"\n",
    "# cv_type = \"risk\"\n",
    "# cv_type = \"pan_finance\"\n",
    "cv_type = \"pan_finance_hk\""
   ]
  },
  {
   "cell_type": "markdown",
   "metadata": {},
   "source": [
    "# The Automation\n",
    "\n",
    "Do not change unless bugs appeared."
   ]
  },
  {
   "cell_type": "code",
   "execution_count": 41,
   "metadata": {},
   "outputs": [],
   "source": [
    "import os\n",
    "import re\n",
    "import shutil\n",
    "import pyperclip\n",
    "import pandas as pd\n",
    "\n",
    "from config import *\n",
    "from gpt_functions import *\n",
    "from gmap_functions import *\n",
    "from notion_functions import *\n",
    "\n",
    "from docx2pdf import convert\n",
    "from datetime import datetime\n",
    "from PyPDF2 import PdfFileReader, PdfFileWriter"
   ]
  },
  {
   "cell_type": "code",
   "execution_count": 42,
   "metadata": {},
   "outputs": [],
   "source": [
    "cv_to_use = cv_dict[cv_type]\n",
    "cv_location = cv_folder + \"/\" + cv_location_dict[cv_type]"
   ]
  },
  {
   "cell_type": "markdown",
   "metadata": {},
   "source": [
    "Chromedriver Location"
   ]
  },
  {
   "cell_type": "code",
   "execution_count": 43,
   "metadata": {},
   "outputs": [],
   "source": [
    "path_to_chromedriver, service, options = ready_for_chromedriver(\n",
    "    binary_location, path_to_chromedriver\n",
    ")"
   ]
  },
  {
   "cell_type": "code",
   "execution_count": 44,
   "metadata": {},
   "outputs": [],
   "source": [
    "jd = jd.replace(\"–\", \"-\").replace(\"'\", \"'\")"
   ]
  },
  {
   "cell_type": "markdown",
   "metadata": {},
   "source": [
    "# Get Company Location Straight"
   ]
  },
  {
   "cell_type": "code",
   "execution_count": 45,
   "metadata": {},
   "outputs": [],
   "source": [
    "prompt_companyinfo = query_companyinfo(jd)"
   ]
  },
  {
   "cell_type": "code",
   "execution_count": 46,
   "metadata": {},
   "outputs": [],
   "source": [
    "info = chatgpt(\"gpt-4o-mini\", prompt_companyinfo)"
   ]
  },
  {
   "cell_type": "code",
   "execution_count": 47,
   "metadata": {},
   "outputs": [],
   "source": [
    "(\n",
    "    valid_info,\n",
    "    company_name,\n",
    "    company_address_line_1,\n",
    "    company_address_line_2,\n",
    "    company_city,\n",
    "    company_state_two_letter,\n",
    "    company_country,\n",
    ") = company_info(\n",
    "    info,\n",
    "    company_name,\n",
    "    company_address_line_1,\n",
    "    company_address_line_2,\n",
    "    company_city,\n",
    "    company_state_two_letter,\n",
    "    company_country,\n",
    ")"
   ]
  },
  {
   "cell_type": "code",
   "execution_count": 48,
   "metadata": {},
   "outputs": [
    {
     "name": "stdout",
     "output_type": "stream",
     "text": [
      "Company Name: Santander\n",
      "Company Address Line 1: 10/F, Two International Finance Centre\n",
      "Company Address Line 2: 8 Finance Street, Central\n",
      "City: Hong Kong\n",
      "State: HK\n",
      "Country: Hong Kong\n"
     ]
    }
   ],
   "source": [
    "print(f\"Company Name: {company_name}\")\n",
    "print(f\"Company Address Line 1: {company_address_line_1}\")\n",
    "print(f\"Company Address Line 2: {company_address_line_2}\")\n",
    "print(f\"City: {company_city}\")\n",
    "print(f\"State: {company_state_two_letter}\")\n",
    "print(f\"Country: {company_country}\")"
   ]
  },
  {
   "cell_type": "markdown",
   "metadata": {},
   "source": [
    "Check Area if any bug"
   ]
  },
  {
   "cell_type": "code",
   "execution_count": 49,
   "metadata": {},
   "outputs": [],
   "source": [
    "# info"
   ]
  },
  {
   "cell_type": "code",
   "execution_count": 50,
   "metadata": {},
   "outputs": [],
   "source": [
    "# info_test = info.replace(r\"\\n\\n\", r\"\\n\")\n",
    "# pattern = r\"\\*\\*Company Name:\\*\\*\\s*(.*?)\\s*\\n\\*\\*Company Address Line 1:\\*\\*\\s*(.*?)\\s*\\n\\*\\*Company Address Line 2:\\*\\*\\s*(.*?)\\s*\\n\\*\\*City:\\*\\*\\s*(.*?)\\s*\\n\\*\\*State:\\*\\*\\s*([A-Za-z]{2,})\\s*\"\n",
    "# results = re.match(pattern, info_test, re.DOTALL)\n",
    "# results.groups()"
   ]
  },
  {
   "cell_type": "code",
   "execution_count": 51,
   "metadata": {},
   "outputs": [],
   "source": [
    "can_continue, info_type = judge_info_type(\n",
    "    company_name, company_address_line_1, company_address_line_2, company_city\n",
    ")"
   ]
  },
  {
   "cell_type": "markdown",
   "metadata": {},
   "source": [
    "# Google Map API"
   ]
  },
  {
   "cell_type": "code",
   "execution_count": 52,
   "metadata": {},
   "outputs": [],
   "source": [
    "company_address_line_3 = \"\"\n",
    "\n",
    "if info_type == \"no_address\":\n",
    "    print(\"No address found, launching Google Maps search.\")\n",
    "    try:\n",
    "        company_address_line_1, company_address_line_2, company_address_line_3 = (\n",
    "            nearby_search_address(company_city, company_name, company_country)\n",
    "        )\n",
    "    except AssertionError:\n",
    "        beep(system_used)\n",
    "        company_address_line_1 = input(\n",
    "            \"No address found, please enter manually. Line 1: \"\n",
    "        )\n",
    "        beep(system_used)\n",
    "        company_address_line_2 = input(\"Please enter the address line 2: \")\n",
    "        if any(\n",
    "            x == \"\" for x in [company_city, company_state_two_letter, company_country]\n",
    "        ):\n",
    "            beep(system_used)\n",
    "            company_address_line_3 = input(\n",
    "                \"Please enter City, State Abbr, Country as line 3:\"\n",
    "            )\n",
    "        else:\n",
    "            company_address_line_3 = (\n",
    "                f\"{company_city}, {company_state_two_letter}, {company_country}\"\n",
    "            )\n",
    "if company_country == \"Hong Kong\":\n",
    "    company_address_line_3 = \"Hong Kong\"\n",
    "\n",
    "if company_address_line_3 == \"\":\n",
    "    company_address_line_3 = (\n",
    "        f\"{company_city}, {company_state_two_letter}, {company_country}\"\n",
    "    )"
   ]
  },
  {
   "cell_type": "markdown",
   "metadata": {},
   "source": [
    "# Prompts and ChatGPT API"
   ]
  },
  {
   "cell_type": "markdown",
   "metadata": {},
   "source": [
    "## Step 1: Warn you if you applied before"
   ]
  },
  {
   "cell_type": "code",
   "execution_count": 53,
   "metadata": {},
   "outputs": [],
   "source": [
    "df_path = f\"{root}/Application History.xlsx\"\n",
    "if os.path.exists(df_path):\n",
    "    df = pd.read_excel(df_path)\n",
    "    beep_or_not, message, temp = compare_jd(jd, company_name, df, threshold=90)\n",
    "    if len(temp) > 0:\n",
    "        print(temp)\n",
    "\n",
    "    if beep_or_not:\n",
    "        stat = msgbox_similar_application(message, temp, system_used)\n",
    "        if stat == \"halt\":\n",
    "            raise SystemExit"
   ]
  },
  {
   "cell_type": "markdown",
   "metadata": {},
   "source": [
    "## Step 2: Check if we need to combine pdf"
   ]
  },
  {
   "cell_type": "code",
   "execution_count": 54,
   "metadata": {},
   "outputs": [],
   "source": [
    "query_sthimportant = query_something_important(jd)"
   ]
  },
  {
   "cell_type": "code",
   "execution_count": 55,
   "metadata": {},
   "outputs": [
    {
     "name": "stdout",
     "output_type": "stream",
     "text": [
      "False\n"
     ]
    }
   ],
   "source": [
    "answer = chatgpt(\"gpt-4o-mini\", query_sthimportant)\n",
    "\n",
    "showed_popup_1 = judge_something_important(answer, package_folder, system_used)\n",
    "print(showed_popup_1)"
   ]
  },
  {
   "cell_type": "markdown",
   "metadata": {},
   "source": [
    "## Step 3: Any inportant keywords in JD that I did not mention"
   ]
  },
  {
   "cell_type": "code",
   "execution_count": 56,
   "metadata": {},
   "outputs": [
    {
     "name": "stdout",
     "output_type": "stream",
     "text": [
      "Already Changed\n"
     ]
    },
    {
     "data": {
      "application/vnd.jupyter.widget-view+json": {
       "model_id": "394a11afce2f4a968bb768426b2f22c1",
       "version_major": 2,
       "version_minor": 0
      },
      "text/plain": [
       "  0%|          | 0/1 [00:00<?, ?it/s]"
      ]
     },
     "metadata": {},
     "output_type": "display_data"
    },
    {
     "name": "stdout",
     "output_type": "stream",
     "text": [
      "{'input': '/Users/fred/Library/CloudStorage/Dropbox/Documents/JHt/CV/hk/base.docx', 'output': '/Users/fred/Library/CloudStorage/Dropbox/Documents/JHt/CV/hk/base.pdf', 'result': 'error', 'error': 'Error: Message not understood.'}\n"
     ]
    },
    {
     "ename": "SystemExit",
     "evalue": "1",
     "output_type": "error",
     "traceback": [
      "An exception has occurred, use %tb to see the full traceback.\n",
      "\u001b[0;31mSystemExit\u001b[0m\u001b[0;31m:\u001b[0m 1\n"
     ]
    },
    {
     "name": "stderr",
     "output_type": "stream",
     "text": [
      "/opt/anaconda3/lib/python3.12/site-packages/IPython/core/interactiveshell.py:3585: UserWarning: To exit: use 'exit', 'quit', or Ctrl-D.\n",
      "  warn(\"To exit: use 'exit', 'quit', or Ctrl-D.\", stacklevel=1)\n"
     ]
    }
   ],
   "source": [
    "extract_status, ats_score, missing_kw_list = extract_keywords(\n",
    "    jd, cv_to_use, company_name, company_country\n",
    ")\n",
    "\n",
    "if not extract_status:\n",
    "    assert False, \"Keyword extraction failed. Please check the logs.\"\n",
    "\n",
    "elif ats_score >= 70:\n",
    "    print(f\"ATS Score: {ats_score}, you will pass this round of screening.\\n\")\n",
    "    print(\"Still, you may want to consider adding the following keywords:\")\n",
    "    print(\"\\n\".join(missing_kw_list))\n",
    "\n",
    "else:\n",
    "    rec = show_popup_keyword(system_used, missing_kw_list, ats_score)\n",
    "    if rec == \"Decline suggestion\":\n",
    "        print(\"Process cancelled.\")\n",
    "    elif rec == \"Already changed\":\n",
    "        # shutil copy current cv to base.docx\n",
    "        shutil.copy(\n",
    "            cv_location.replace(\".pdf\", \".docx\"),\n",
    "            f\"{os.path.dirname(cv_location)}/base.docx\",\n",
    "        )\n",
    "        # Convert the docx file to pdf\n",
    "        base_docx_path = f\"{os.path.dirname(cv_location)}/base.docx\"\n",
    "        base_pdf_path = f\"{os.path.dirname(cv_location)}/base.pdf\"\n",
    "\n",
    "        # Convert the docx file to pdf\n",
    "        convert(base_docx_path, base_pdf_path)\n",
    "\n",
    "        # Read the PDF and keep only the first page\n",
    "        pdf_reader = PdfFileReader(base_pdf_path)\n",
    "        pdf_writer = PdfFileWriter()\n",
    "        pdf_writer.addPage(pdf_reader.getPage(0))\n",
    "\n",
    "        cv_path = f\"{os.path.dirname(cv_location)}/cv_with_keywords.pdf\"\n",
    "        with open(cv_path, \"wb\") as output_pdf:\n",
    "            pdf_writer.write(output_pdf)\n",
    "\n",
    "    else:\n",
    "        assert False, \"Invalid recommendation received.\""
   ]
  },
  {
   "cell_type": "markdown",
   "metadata": {},
   "source": [
    "## Step 4: Draft Cover Letter"
   ]
  },
  {
   "cell_type": "code",
   "execution_count": 57,
   "metadata": {},
   "outputs": [],
   "source": [
    "if company_name == \"\" or company_name == \"None\":\n",
    "    assert False, \"Company name is empty.\"\n",
    "\n",
    "if additional_strength_to_mention.replace(\" \", \"\") == \"\":\n",
    "    additional_strength_to_mention = None\n",
    "\n",
    "prompt_cl = query_cover_letter(\n",
    "    one_sentence_bio,\n",
    "    job_title,\n",
    "    cv_to_use,\n",
    "    jd,\n",
    "    company_name,\n",
    "    additional_strength_to_mention=additional_strength_to_mention,\n",
    ")"
   ]
  },
  {
   "cell_type": "code",
   "execution_count": 58,
   "metadata": {},
   "outputs": [
    {
     "name": "stdout",
     "output_type": "stream",
     "text": [
      "The content has been copied to the clipboard.\n",
      "\n",
      "As a Hong Kong permanent resident and a graduate of the University of Hong Kong, I am excited to apply for the Analyst, Operations position at Santander. My background in fund management and financial analysis, combined with fluency in English, Cantonese, and Mandarin, makes me well-suited for this role.\n",
      "\n",
      "In my previous role as an Assistant Portfolio Manager at Privium Fund Management, I co-managed a US$200 million option selling strategy. This experience allowed me to apply option pricing techniques to optimize premium income and utilize asset pricing models to forecast asset prices. At Yong Rong Asset, I worked as a Junior Trader on a US$30 million high conviction sub-fund, where I analyzed trade flows and employed strategies like limit orders, VWAP, and TWAP to achieve optimal execution.\n",
      "\n",
      "My proficiency with **SWIFT Alliance**, banking systems, and tools like Bloomberg and FactSet positions me to contribute effectively to your team. I have a solid understanding of **ICC UCP & URC and ISBP**, and I am adept at conducting AML and sanction checks, ensuring compliance with policies and guidelines. My attention to detail and ability to identify irregularities align with your requirement for sensitivity to operational risks.\n",
      "\n",
      "I am drawn to Santander's commitment to delivering quality services and maintaining rigorous operational standards. The opportunity to work closely with senior management and contribute to day-to-day operations aligns with my career goals. I am eager to leverage my skills and experiences to support your team in providing exceptional service to clients.\n"
     ]
    }
   ],
   "source": [
    "answer = chatgpt(\"o1-preview\", prompt_cl, temp=1)\n",
    "match = re.search(\n",
    "    r\"Dear hiring manager,\\s*(.*)\\s*Sincerely,\", answer, re.DOTALL | re.IGNORECASE\n",
    ")\n",
    "\n",
    "if match:\n",
    "    extracted_text = (\n",
    "        match.group(1).strip()\n",
    "        if not no_need_to_form_pdf\n",
    "        else match.group(1).strip().replace(\"**\", \"\")\n",
    "    )\n",
    "    pyperclip.copy(extracted_text)\n",
    "    print(\"The content has been copied to the clipboard.\")\n",
    "    print(\"\")\n",
    "    print(extracted_text)\n",
    "else:\n",
    "    print(\"The specified text was not found. Please do it manually. Original answer:\")\n",
    "    print(answer)\n",
    "    raise SystemExit"
   ]
  },
  {
   "cell_type": "code",
   "execution_count": 59,
   "metadata": {},
   "outputs": [
    {
     "name": "stdout",
     "output_type": "stream",
     "text": [
      "No need to shrink the text. The original text is already less than 300 words: 246 words.\n"
     ]
    }
   ],
   "source": [
    "extracted_text = shrink_text(extracted_text, threshold=300)"
   ]
  },
  {
   "cell_type": "code",
   "execution_count": 60,
   "metadata": {},
   "outputs": [
    {
     "data": {
      "text/plain": [
       "246"
      ]
     },
     "execution_count": 60,
     "metadata": {},
     "output_type": "execute_result"
    }
   ],
   "source": [
    "word_count = len(extracted_text.split())\n",
    "word_count"
   ]
  },
  {
   "cell_type": "markdown",
   "metadata": {},
   "source": [
    "## Step 5: Get my best Title for this Job"
   ]
  },
  {
   "cell_type": "code",
   "execution_count": 61,
   "metadata": {},
   "outputs": [],
   "source": [
    "prompt_job_title = query_job_title(jd, cv_to_use, extracted_text)"
   ]
  },
  {
   "cell_type": "code",
   "execution_count": 62,
   "metadata": {},
   "outputs": [
    {
     "name": "stdout",
     "output_type": "stream",
     "text": [
      "**Operations Analyst**\n"
     ]
    }
   ],
   "source": [
    "proposed_job_title = chatgpt(\"chatgpt-4o-latest\", prompt_job_title)\n",
    "\n",
    "if \"*\" not in proposed_job_title:\n",
    "    proposed_job_title = \"**\" + proposed_job_title + \"**\"\n",
    "print(proposed_job_title)"
   ]
  },
  {
   "cell_type": "markdown",
   "metadata": {},
   "source": [
    "# Add Record"
   ]
  },
  {
   "cell_type": "code",
   "execution_count": 63,
   "metadata": {},
   "outputs": [],
   "source": [
    "df_path = f\"{root}/Application History.xlsx\"\n",
    "if not os.path.exists(df_path):\n",
    "    df = pd.DataFrame(\n",
    "        columns=[\n",
    "            \"Date\",\n",
    "            \"Company_Name\",\n",
    "            \"Position_Name\",\n",
    "            \"CV_Used\",\n",
    "            \"Company_City\",\n",
    "            \"Company_State\",\n",
    "            \"Cover_Letter\",\n",
    "            \"Original_JD\",\n",
    "        ]\n",
    "    )\n",
    "    df.to_excel(df_path, index=False)"
   ]
  },
  {
   "cell_type": "code",
   "execution_count": 64,
   "metadata": {},
   "outputs": [],
   "source": [
    "df = pd.read_excel(df_path, sheet_name=\"Sheet1\")\n",
    "first_sentence = extracted_text.split(\".\")[0]\n",
    "\n",
    "today = datetime.today().strftime(\"%B %d, %Y\")\n",
    "\n",
    "row = {\n",
    "    \"Date\": today,\n",
    "    \"Company Name\": company_name,\n",
    "    \"Position Name\": job_title,\n",
    "    \"Cover Letter\": f\"Cover Letter - {my_name}.pdf\",\n",
    "    \"CV Used\": cv_to_use,\n",
    "    \"Company City\": company_city,\n",
    "    \"Original_JD\": jd,\n",
    "}\n",
    "\n",
    "row_df = pd.DataFrame([row])\n",
    "df = pd.concat([df, row_df], ignore_index=True)\n",
    "df.fillna(\"\", inplace=True)\n",
    "df.drop_duplicates(subset=df.columns, keep=\"first\", inplace=True)\n",
    "\n",
    "df.to_excel(f\"{root}/Application History.xlsx\", index=False)"
   ]
  },
  {
   "cell_type": "markdown",
   "metadata": {},
   "source": [
    "# Notion"
   ]
  },
  {
   "cell_type": "code",
   "execution_count": 65,
   "metadata": {},
   "outputs": [],
   "source": [
    "if no_need_to_form_pdf:\n",
    "    raise SystemExit\n",
    "\n",
    "if re.search(r\"_hk$\", cv_type):\n",
    "    paper_size = \"a4\"\n",
    "else:\n",
    "    paper_size = \"letter\""
   ]
  },
  {
   "cell_type": "code",
   "execution_count": 66,
   "metadata": {},
   "outputs": [
    {
     "name": "stdout",
     "output_type": "stream",
     "text": [
      "Found block with text: TBA Title\n",
      "Block 10ab1542-9002-80d4-abe7-ffca8866414d updated.\n",
      "True\n"
     ]
    }
   ],
   "source": [
    "replace_job_title_success, block_id = replace_simple(\n",
    "    \"TBA Title\", proposed_job_title, page_id\n",
    ")\n",
    "print(replace_job_title_success)"
   ]
  },
  {
   "cell_type": "code",
   "execution_count": 67,
   "metadata": {},
   "outputs": [
    {
     "name": "stdout",
     "output_type": "stream",
     "text": [
      "Found block with text: TBA Date\n",
      "Block b87e1d4a-c6af-4e91-bf93-e928c0c44dbe updated.\n",
      "True\n"
     ]
    }
   ],
   "source": [
    "replace_date_success, block_id = replace_simple(\"TBA Date\", today, page_id)\n",
    "print(replace_date_success)"
   ]
  },
  {
   "cell_type": "code",
   "execution_count": 68,
   "metadata": {},
   "outputs": [],
   "source": [
    "if info_type == \"single_line\":\n",
    "    parsed_address = (\n",
    "        f\"{company_address_line_1}\\n{company_name}\\n{company_address_line_3}\"\n",
    "    )\n",
    "elif info_type == \"no_address\":\n",
    "    parsed_address = (\n",
    "        f\"{company_address_line_1}\\n{company_address_line_2}\\n{company_address_line_3}\"\n",
    "    )\n",
    "\n",
    "elif info_type == \"full_address\" and company_country != \"Hong Kong\":\n",
    "    parsed_address = f\"{company_address_line_1}\\n{company_address_line_2}\\n{company_city}, {company_state_two_letter}, {company_country}\"\n",
    "\n",
    "elif info_type == \"full_address\" and company_country == \"Hong Kong\":\n",
    "    parsed_address = (\n",
    "        f\"{company_name}\\n{company_address_line_1}\\n{company_address_line_2}, Hong Kong\"\n",
    "    )\n",
    "\n",
    "else:\n",
    "    assert False, \"Invalid info_type\""
   ]
  },
  {
   "cell_type": "code",
   "execution_count": 69,
   "metadata": {},
   "outputs": [
    {
     "name": "stdout",
     "output_type": "stream",
     "text": [
      "Found block with text: TBA Address\n",
      "Block 10bb1542-9002-8099-a9a2-eb53beff1332 updated with color 'default'.\n"
     ]
    }
   ],
   "source": [
    "replace_address_success, block_id_address = replace_simple(\n",
    "    \"TBA Address\", parsed_address, page_id, change_color=True, color_to=\"default\"\n",
    ")"
   ]
  },
  {
   "cell_type": "code",
   "execution_count": 70,
   "metadata": {},
   "outputs": [
    {
     "name": "stdout",
     "output_type": "stream",
     "text": [
      "Found block with text: TBA Main Text\n",
      "Block 144b1542-9002-80df-bce5-e27adaa3e45f updated.\n"
     ]
    }
   ],
   "source": [
    "replace_main_text_success, block_id_main = replace_simple(\n",
    "    \"TBA Main Text\", extracted_text.strip(), page_id\n",
    ")"
   ]
  },
  {
   "cell_type": "code",
   "execution_count": 71,
   "metadata": {},
   "outputs": [
    {
     "name": "stdout",
     "output_type": "stream",
     "text": [
      "Page is successful.\n",
      "Page is successful, proceeding to download PDF.\n",
      "PDF saved to ..//Cover Letter/Cover Letter - Fred Li.pdf\n"
     ]
    }
   ],
   "source": [
    "first_paragraph = extracted_text.split(\"\\n\")[0].replace(\"*\", \"\").strip()\n",
    "download_success = selenium_download_pdf(\n",
    "    service, options, download_folder, website, first_paragraph, paper_size\n",
    ")"
   ]
  },
  {
   "cell_type": "markdown",
   "metadata": {},
   "source": [
    "# Parse PDF"
   ]
  },
  {
   "cell_type": "code",
   "execution_count": 72,
   "metadata": {},
   "outputs": [
    {
     "name": "stdout",
     "output_type": "stream",
     "text": [
      "Page 2 is blank. Removing...\n",
      "Saved PDF with 1 non-blank pages.\n"
     ]
    }
   ],
   "source": [
    "input_pdf_path = f\"{download_folder}/Cover Letter - {my_name}.pdf\"\n",
    "remove_blank_pages_from_pdf(input_pdf_path)"
   ]
  },
  {
   "cell_type": "markdown",
   "metadata": {},
   "source": [
    "# Copy CV, CL to Package Folder"
   ]
  },
  {
   "cell_type": "code",
   "execution_count": 73,
   "metadata": {},
   "outputs": [
    {
     "data": {
      "text/plain": [
       "'..//CV/hk/pan_finance_hk.pdf'"
      ]
     },
     "execution_count": 73,
     "metadata": {},
     "output_type": "execute_result"
    }
   ],
   "source": [
    "cv_location"
   ]
  },
  {
   "cell_type": "code",
   "execution_count": 74,
   "metadata": {},
   "outputs": [
    {
     "data": {
      "text/plain": [
       "'..//Cover Letter Backup/February 17, 2025_Santander_Hong Kong.pdf'"
      ]
     },
     "execution_count": 74,
     "metadata": {},
     "output_type": "execute_result"
    }
   ],
   "source": [
    "shutil.copy(cv_location, f\"{package_folder}/CV - {my_name}.pdf\")\n",
    "shutil.copy(\n",
    "    f\"{download_folder}/Cover Letter - {my_name}.pdf\",\n",
    "    f\"{package_folder}/Cover Letter - {my_name}.pdf\",\n",
    ")\n",
    "\n",
    "cl_backup_folder = f\"{root}/Cover Letter Backup\"\n",
    "shutil.copy(\n",
    "    f\"{package_folder}/Cover Letter - {my_name}.pdf\",\n",
    "    f\"{cl_backup_folder}/{today}_{company_name}_{company_city}.pdf\",\n",
    ")"
   ]
  },
  {
   "cell_type": "code",
   "execution_count": 75,
   "metadata": {},
   "outputs": [
    {
     "data": {
      "text/plain": [
       "True"
      ]
     },
     "execution_count": 75,
     "metadata": {},
     "output_type": "execute_result"
    }
   ],
   "source": [
    "# combine all three PDFs in package folder\n",
    "\n",
    "if showed_popup_1:\n",
    "    beep(system_used)\n",
    "    sequence = input(\n",
    "        \"Since GPT identified some modifications specefic to this JD, please enter the sequence of the PDFs to be combined, 1: CV; 2: CL; 3: Unofficial Transcript. e.g.: 123; 12; 13; 1, etc.\"\n",
    "    )\n",
    "else:\n",
    "    sequence = \"12\"\n",
    "\n",
    "merge_pdf(sequence, package_folder, my_name)"
   ]
  },
  {
   "cell_type": "markdown",
   "metadata": {},
   "source": [
    "# Recover to Template for next use"
   ]
  },
  {
   "cell_type": "code",
   "execution_count": 76,
   "metadata": {},
   "outputs": [
    {
     "name": "stdout",
     "output_type": "stream",
     "text": [
      "Found block with text: Operations Analyst\n",
      "Block 10ab1542-9002-80d4-abe7-ffca8866414d updated.\n"
     ]
    },
    {
     "data": {
      "text/plain": [
       "(True, '10ab1542-9002-80d4-abe7-ffca8866414d')"
      ]
     },
     "execution_count": 76,
     "metadata": {},
     "output_type": "execute_result"
    }
   ],
   "source": [
    "replace_simple(proposed_job_title.replace(\"*\", \"\"), \"TBA Title\", page_id)"
   ]
  },
  {
   "cell_type": "code",
   "execution_count": 77,
   "metadata": {},
   "outputs": [
    {
     "name": "stdout",
     "output_type": "stream",
     "text": [
      "Found block with text: February 17, 2025\n",
      "Block b87e1d4a-c6af-4e91-bf93-e928c0c44dbe updated.\n"
     ]
    },
    {
     "data": {
      "text/plain": [
       "(True, 'b87e1d4a-c6af-4e91-bf93-e928c0c44dbe')"
      ]
     },
     "execution_count": 77,
     "metadata": {},
     "output_type": "execute_result"
    }
   ],
   "source": [
    "replace_simple(today, \"TBA Date\", page_id)"
   ]
  },
  {
   "cell_type": "code",
   "execution_count": 79,
   "metadata": {},
   "outputs": [
    {
     "name": "stdout",
     "output_type": "stream",
     "text": [
      "Found block with text: Santander\n",
      "10/F, Two International Finance Centre\n",
      "8 Finance Street, Central, Hong Kong\n",
      "Block 10bb1542-9002-8099-a9a2-eb53beff1332 updated.\n"
     ]
    },
    {
     "data": {
      "text/plain": [
       "(True, '10bb1542-9002-8099-a9a2-eb53beff1332')"
      ]
     },
     "execution_count": 79,
     "metadata": {},
     "output_type": "execute_result"
    }
   ],
   "source": [
    "replace_simple(company_address_line_1, \"TBA Address\", page_id)"
   ]
  },
  {
   "cell_type": "code",
   "execution_count": 80,
   "metadata": {},
   "outputs": [
    {
     "name": "stdout",
     "output_type": "stream",
     "text": [
      "Updated block 144b1542-9002-80df-bce5-e27adaa3e45f with new text.\n",
      "Updated block 144b1542-9002-80df-bce5-e27adaa3e45f with new text.\n"
     ]
    },
    {
     "data": {
      "text/plain": [
       "True"
      ]
     },
     "execution_count": 80,
     "metadata": {},
     "output_type": "execute_result"
    }
   ],
   "source": [
    "blocks = get_page_blocks(page_id)\n",
    "\n",
    "start_text = \"Dear Hiring Manager,\"\n",
    "end_text = \"Sincerely,\"\n",
    "replacement_text = \"TBA Main Text\"\n",
    "\n",
    "replace_text_in_blocks(blocks, start_text, end_text, replacement_text)"
   ]
  }
 ],
 "metadata": {
  "kernelspec": {
   "display_name": "base",
   "language": "python",
   "name": "python3"
  },
  "language_info": {
   "codemirror_mode": {
    "name": "ipython",
    "version": 3
   },
   "file_extension": ".py",
   "mimetype": "text/x-python",
   "name": "python",
   "nbconvert_exporter": "python",
   "pygments_lexer": "ipython3",
   "version": "3.12.2"
  }
 },
 "nbformat": 4,
 "nbformat_minor": 2
}
