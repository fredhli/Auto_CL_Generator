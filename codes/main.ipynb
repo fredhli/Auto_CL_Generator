{
 "cells": [
  {
   "cell_type": "markdown",
   "metadata": {},
   "source": [
    "# Input Job by Job\n",
    "Change this section every time  \n",
    "Close PDF Reader APP to avoid error messages"
   ]
  },
  {
   "cell_type": "markdown",
   "metadata": {},
   "source": [
    "## Job Description"
   ]
  },
  {
   "cell_type": "code",
   "execution_count": 15,
   "metadata": {},
   "outputs": [],
   "source": [
    "no_need_form_pdf = True\n",
    "# designed for job search websites where you can directly copy paste the cover letter without bolding keywords nor formatting a pdf"
   ]
  },
  {
   "cell_type": "code",
   "execution_count": 16,
   "metadata": {},
   "outputs": [],
   "source": [
    "job_title = \"Assistant Manager (Finance)\"\n",
    "\n",
    "jd = \"\"\"\n",
    "What is this position about?\n",
    "\n",
    "The Finance Implementation Project (FIP) is in charge to drive and deliver the end-to-end regulatory and business projects implementation. The main mission is to integrate in Finance systems business processes and regulatory requirements, in accordance with Norms & Standards, to embrace all streams of Reporting (Financial Accounting, Management Accounting, Credit Risk, Liquidity). The APAC FIP team is part of the global FIP organization who is responsible for all accounting projects in APAC region. \n",
    "\n",
    "Mission statement  \n",
    "\n",
    "•    Ensure the end-to-end implementation of the Business and Regulatory projects, in full alignment with Finance strategy.\n",
    "\n",
    "•    Respond to the various businesses and reporting requirements (Financial Accounting, Management Accounting, Credit Risk, Liquidity etc.) in a timely manner.\n",
    "\n",
    "•    Source and transform raw data and enable a good quality of reporting.\n",
    "\n",
    "•    Ensure a consistent approach of the Finance solutions across the region and align to Group standard.\n",
    "\n",
    "Role and responsibility \n",
    "\n",
    "•    Lead and drive the ledger transformation project in Finance in the context of ever changing business & regulatory reporting requirements.  \n",
    "\n",
    "•    Ensure consistency of Finance systems/reports across the APAC region, in adherence to the Group's standard.  \n",
    "\n",
    "•    Provide efficient support to Finance teams in daily production tasks, whenever required\n",
    "\n",
    "•    Act as a bridge between request and the delivery of solution\n",
    "\n",
    "•    Major projects involve:\n",
    "\n",
    "o    Build or automate the accounting interface between operating systems and accounting core ledger systems\n",
    "\n",
    "o    Support new business and new products initiatives \n",
    "\n",
    "o    Support new regulatory requirements\n",
    "\n",
    "o    System upgrades and migrations\n",
    "\n",
    "Our values\n",
    "\n",
    "•    We are keen to understand our clients and serve our clients better.\n",
    "\n",
    "•    Focus on time-to-market and delivery to address business's needs. \n",
    "\n",
    "•    Emphasize on collaboration between teams to deliver solutions in the bank's best interest. \n",
    "\n",
    "•    We believe there are always solutions. \n",
    "\n",
    "What would be your typical day at BNPP Paribas look like? \n",
    "\n",
    "Primary Role Responsibilities\n",
    "\n",
    "•    Acting as a Business Analyst (70%)\n",
    "\n",
    "-    Understand the project objective and ensure all user requirements are properly captured\n",
    "\n",
    "-    Carry out feasibility study, assess potential impact and define target operating model\n",
    "\n",
    "-    Explain the user requirements to IT for IT development\n",
    "\n",
    "-    Define the appropriate testing strategy according to the nature of the project\n",
    "\n",
    "-    Design test cases and ensure adequate testing is performed\n",
    "\n",
    "-    Validate testing result by performing detailed checking of accounting entries and/ or reports and provide UAT sign-off on behalf of finance users\n",
    "\n",
    "•    Acting as a Project Manager (30%) \n",
    "\n",
    "-    Drive and manage all stages in project life cycle, from project initialization to project closure\n",
    "\n",
    "-    Develop project scope documentation, project plans and project schedules \n",
    "\n",
    "-    Continuously coordinate with IT and other finance users\n",
    "\n",
    "-    Undertake risk analysis and proactively identify mitigating solutions\n",
    "\n",
    "-    Timely track the progress of projects against agreed timeline and budget \n",
    "\n",
    "-    Arrange smooth go-live implementation and provide post go-live support\n",
    "\n",
    "-    Present project status regularly to senior management\n",
    "\n",
    "-    Build and maintain a trusted relationship with all project stakeholders across different functions (PMO, IT, finance users, operation teams)\n",
    "\n",
    "•    Provide support in case of production incidents, including root cause identification and proposing solutions to resolve the issue in a timely manner\n",
    "\n",
    "Other contributions\n",
    "\n",
    "•    Identify areas of improvement; streamline the existing processes for efficiency\n",
    "\n",
    "•    Support team-head to monitor the budget and share progress updates\n",
    "\n",
    "What is required for you to succeed?\n",
    "\n",
    "Technical Competencies\n",
    "\n",
    "o    Accounting related experience And / Or finance project experience in Financial Institution (5+ years)\n",
    "\n",
    "o    CPA preferred, but not mandatory\n",
    "\n",
    "o    Experience in project management and PMP qualification preferred, but not necessary\n",
    "\n",
    "o    Adequate knowledge on accounting treatment (especially on financial instruments) under IFRS\n",
    "\n",
    "o    Knowledge on front-to-back operation and financial products would be an advantage\n",
    "\n",
    "o    Proven ability in project delivery\n",
    "\n",
    "o    Good command of written and spoken English and Mandarin\n",
    "\n",
    "o    PC skill such as MS Word, Excel, PowerPoint, SQL\n",
    "\n",
    "Behavioral Competencies\n",
    "\n",
    "o    Excited about driving change\n",
    "\n",
    "o    Strong communication and interpersonal skills\n",
    "\n",
    "o    Ability to work in multicultural environment, as the role needs to deal with different stakeholders across APAC regions\n",
    "\n",
    "o    Self-driven and able to work independently\n",
    "\n",
    "o    Attention to detail\n",
    "\n",
    "o    Able to work under stress\n",
    "\n",
    "o    Strong problem solving and logical thinking skill\n",
    "\n",
    "o    Ability to multi-task\n",
    "\n",
    "o    Team player \n",
    "\n",
    "About BNP PARIBAS\n",
    "\n",
    "As the leading European Union bank, and one of the world's largest financial institutions with an uninterrupted presence in the region since 1860, BNP Paribas offers a wide range of financial services for corporate, institutional and private investors spanning corporate and institutional banking, wealth management, asset management and insurance. \n",
    "\n",
    "We passionately embrace diversity and are committed to fostering an inclusive workplace where all employees are valued and encourage applicants of all backgrounds, including diversity of origin, age, gender, sexual orientation, gender identity, religion applicants who may be living with a disability. We have a number of internal employee networks in place to empower our staff to act and challenge the status quo.\n",
    "\n",
    "•    BNP Paribas PRIDE is highly active in favour of the LGBTQIA+ community\n",
    "\n",
    "•    BNP Paribas MixCity which fosters better representation of women at all levels of the organization\n",
    "\n",
    "•    Ability, the mutual aid network for employees with a disability or a disabling or chronic illness\n",
    "\n",
    "•    BNP Paribas CulturAll which celebrates diverse backgrounds\n",
    "\n",
    "BNP is committed to financing a carbon-neutral economy by 2050. The Group is a founding member of the Net-Zero Banking Alliance and has set up its own Low Carbon Transition Group to support its clients through their energy transitions.\n",
    "\n",
    "https://careers.apac.bnpparibas/(Opens in a new tab)\n",
    "\n",
    "More information \n",
    "\n",
    "BNP Paribas - Diversity & Inclusion Journey\n",
    "\n",
    "BNP Paribas - The Bank Of Green Changes\n",
    "\n",
    "Award Obtained\n",
    "\n",
    "BNPP has won Top employer Europe award in a 10th consecutive year\n",
    "\"\"\""
   ]
  },
  {
   "cell_type": "markdown",
   "metadata": {},
   "source": [
    "## Company info  \n",
    "You can leave the address blank, Google Map API will help you find the address."
   ]
  },
  {
   "cell_type": "code",
   "execution_count": 17,
   "metadata": {},
   "outputs": [],
   "source": [
    "company_name = \"BNP Paribas\"\n",
    "company_address_line_1 = \"63/F, Two International Finance Centre\"\n",
    "company_address_line_2 = \"8 Finance Street, Central\"\n",
    "company_city = \"Hong Kong\"\n",
    "company_state_two_letter = \"HK\"\n",
    "company_country = \"Hong Kong\"  # US, Canada, HK"
   ]
  },
  {
   "cell_type": "markdown",
   "metadata": {},
   "source": [
    "## Personal-specific Info Regarding This Role\n",
    "Do you have anything else to stress in your cover letter?"
   ]
  },
  {
   "cell_type": "code",
   "execution_count": 11,
   "metadata": {},
   "outputs": [],
   "source": [
    "additional_strength_to_mention = \"\"\"\n",
    "- Strong ability in financial modeling and valuation\n",
    "- Extensive experience in conducting market research and analysis\n",
    "- Asset Management experience in China-focused firms\n",
    "- Hong Kong permanent resident\n",
    "- Fluency in English and Mandarin, proficiency in Cantonese\n",
    "\"\"\""
   ]
  },
  {
   "cell_type": "code",
   "execution_count": 19,
   "metadata": {},
   "outputs": [],
   "source": [
    "if company_country == \"Hong Kong\":\n",
    "    additional_strength_to_mention = (\n",
    "        \"- Stress my tie to Hong Kong (for example, my bachelor degree from University of Hong Kong, my Hong Kong permanent recidency, my trilingual, etc.), better stress it from the beginning, since Hong Kong HRs kind of oppose non-locals without a strong tie to Hong Kong. \\n\"\n",
    "        + additional_strength_to_mention\n",
    "    )"
   ]
  },
  {
   "cell_type": "markdown",
   "metadata": {},
   "source": [
    "Which version of CV do you want to use?"
   ]
  },
  {
   "cell_type": "code",
   "execution_count": 20,
   "metadata": {},
   "outputs": [],
   "source": [
    "# cv_type = \"trader\"\n",
    "# cv_type = \"trader_hk\"\n",
    "# cv_type = \"operation\"\n",
    "# cv_type = \"risk\"\n",
    "# cv_type = \"pan_finance\"\n",
    "cv_type = \"pan_finance_hk\""
   ]
  },
  {
   "cell_type": "markdown",
   "metadata": {},
   "source": [
    "# The Automation\n",
    "\n",
    "Do not change unless bugs appeared."
   ]
  },
  {
   "cell_type": "code",
   "execution_count": null,
   "metadata": {},
   "outputs": [],
   "source": [
    "import os\n",
    "import re\n",
    "import shutil\n",
    "import pyperclip\n",
    "import pandas as pd\n",
    "\n",
    "from config import *\n",
    "from gpt_functions import *\n",
    "from gmap_functions import *\n",
    "from notion_functions import *\n",
    "\n",
    "from docx2pdf import convert\n",
    "from datetime import datetime\n",
    "from PyPDF2 import PdfFileReader, PdfFileWriter"
   ]
  },
  {
   "cell_type": "code",
   "execution_count": null,
   "metadata": {},
   "outputs": [],
   "source": [
    "cv_to_use = cv_dict[cv_type]\n",
    "cv_location = cv_folder + \"/\" + cv_location_dict[cv_type]"
   ]
  },
  {
   "cell_type": "markdown",
   "metadata": {},
   "source": [
    "Chromedriver Location"
   ]
  },
  {
   "cell_type": "code",
   "execution_count": null,
   "metadata": {},
   "outputs": [],
   "source": [
    "path_to_chromedriver, service, options = ready_for_chromedriver(\n",
    "    binary_location, path_to_chromedriver\n",
    ")"
   ]
  },
  {
   "cell_type": "code",
   "execution_count": null,
   "metadata": {},
   "outputs": [],
   "source": [
    "jd = jd.replace(\"–\", \"-\").replace(\"'\", \"'\")"
   ]
  },
  {
   "cell_type": "markdown",
   "metadata": {},
   "source": [
    "# Get Company Location Straight"
   ]
  },
  {
   "cell_type": "code",
   "execution_count": null,
   "metadata": {},
   "outputs": [],
   "source": [
    "prompt_companyinfo = query_companyinfo(jd)"
   ]
  },
  {
   "cell_type": "code",
   "execution_count": null,
   "metadata": {},
   "outputs": [],
   "source": [
    "info = chatgpt(\"gpt-4o-mini\", prompt_companyinfo)"
   ]
  },
  {
   "cell_type": "code",
   "execution_count": null,
   "metadata": {},
   "outputs": [],
   "source": [
    "(\n",
    "    valid_info,\n",
    "    company_name,\n",
    "    company_address_line_1,\n",
    "    company_address_line_2,\n",
    "    company_city,\n",
    "    company_state_two_letter,\n",
    "    company_country,\n",
    ") = company_info(\n",
    "    info,\n",
    "    company_name,\n",
    "    company_address_line_1,\n",
    "    company_address_line_2,\n",
    "    company_city,\n",
    "    company_state_two_letter,\n",
    "    company_country,\n",
    ")"
   ]
  },
  {
   "cell_type": "code",
   "execution_count": null,
   "metadata": {},
   "outputs": [],
   "source": [
    "print(f\"Company Name: {company_name}\")\n",
    "print(f\"Company Address Line 1: {company_address_line_1}\")\n",
    "print(f\"Company Address Line 2: {company_address_line_2}\")\n",
    "print(f\"City: {company_city}\")\n",
    "print(f\"State: {company_state_two_letter}\")\n",
    "print(f\"Country: {company_country}\")"
   ]
  },
  {
   "cell_type": "markdown",
   "metadata": {},
   "source": [
    "Check Area if any bug"
   ]
  },
  {
   "cell_type": "code",
   "execution_count": null,
   "metadata": {},
   "outputs": [],
   "source": [
    "# info"
   ]
  },
  {
   "cell_type": "code",
   "execution_count": null,
   "metadata": {},
   "outputs": [],
   "source": [
    "# info_test = info.replace(r\"\\n\\n\", r\"\\n\")\n",
    "# pattern = r\"\\*\\*Company Name:\\*\\*\\s*(.*?)\\s*\\n\\*\\*Company Address Line 1:\\*\\*\\s*(.*?)\\s*\\n\\*\\*Company Address Line 2:\\*\\*\\s*(.*?)\\s*\\n\\*\\*City:\\*\\*\\s*(.*?)\\s*\\n\\*\\*State:\\*\\*\\s*([A-Za-z]{2,})\\s*\"\n",
    "# results = re.match(pattern, info_test, re.DOTALL)\n",
    "# results.groups()"
   ]
  },
  {
   "cell_type": "code",
   "execution_count": null,
   "metadata": {},
   "outputs": [],
   "source": [
    "can_continue, info_type = judge_info_type(\n",
    "    company_name, company_address_line_1, company_address_line_2, company_city\n",
    ")"
   ]
  },
  {
   "cell_type": "markdown",
   "metadata": {},
   "source": [
    "# Google Map API"
   ]
  },
  {
   "cell_type": "code",
   "execution_count": null,
   "metadata": {},
   "outputs": [],
   "source": [
    "company_address_line_3 = \"\"\n",
    "\n",
    "if info_type == \"no_address\":\n",
    "    print(\"No address found, launching Google Maps search.\")\n",
    "    try:\n",
    "        company_address_line_1, company_address_line_2, company_address_line_3 = (\n",
    "            nearby_search_address(company_city, company_name, company_country)\n",
    "        )\n",
    "    except AssertionError:\n",
    "        beep(system_used)\n",
    "        company_address_line_1 = input(\n",
    "            \"No address found, please enter manually. Line 1: \"\n",
    "        )\n",
    "        beep(system_used)\n",
    "        company_address_line_2 = input(\"Please enter the address line 2: \")\n",
    "        if any(\n",
    "            x == \"\" for x in [company_city, company_state_two_letter, company_country]\n",
    "        ):\n",
    "            beep(system_used)\n",
    "            company_address_line_3 = input(\n",
    "                \"Please enter City, State Abbr, Country as line 3:\"\n",
    "            )\n",
    "        else:\n",
    "            company_address_line_3 = (\n",
    "                f\"{company_city}, {company_state_two_letter}, {company_country}\"\n",
    "            )\n",
    "if company_country == \"Hong Kong\":\n",
    "    company_address_line_3 = \"Hong Kong\"\n",
    "\n",
    "if company_address_line_3 == \"\":\n",
    "    company_address_line_3 = (\n",
    "        f\"{company_city}, {company_state_two_letter}, {company_country}\"\n",
    "    )"
   ]
  },
  {
   "cell_type": "markdown",
   "metadata": {},
   "source": [
    "# Prompts and ChatGPT API"
   ]
  },
  {
   "cell_type": "markdown",
   "metadata": {},
   "source": [
    "## Step 1: Warn you if you applied before"
   ]
  },
  {
   "cell_type": "code",
   "execution_count": null,
   "metadata": {},
   "outputs": [],
   "source": [
    "df_path = f\"{root}/Application History.xlsx\"\n",
    "if os.path.exists(df_path):\n",
    "    df = pd.read_excel(df_path)\n",
    "    beep_or_not, message, temp = compare_jd(jd, company_name, df, threshold=90)\n",
    "    if len(temp) > 0:\n",
    "        print(temp)\n",
    "\n",
    "    if beep_or_not:\n",
    "        stat = msgbox_similar_application(message, temp, system_used)\n",
    "        if stat == \"halt\":\n",
    "            raise SystemExit"
   ]
  },
  {
   "cell_type": "markdown",
   "metadata": {},
   "source": [
    "## Step 2: Check if we need to combine pdf"
   ]
  },
  {
   "cell_type": "code",
   "execution_count": null,
   "metadata": {},
   "outputs": [],
   "source": [
    "query_sthimportant = query_something_important(jd)"
   ]
  },
  {
   "cell_type": "code",
   "execution_count": null,
   "metadata": {},
   "outputs": [],
   "source": [
    "answer = chatgpt(\"gpt-4o-mini\", query_sthimportant)\n",
    "\n",
    "showed_popup_1 = judge_something_important(answer, package_folder, system_used)\n",
    "print(showed_popup_1)"
   ]
  },
  {
   "cell_type": "markdown",
   "metadata": {},
   "source": [
    "## Step 3: Any inportant keywords in JD that I did not mention"
   ]
  },
  {
   "cell_type": "code",
   "execution_count": null,
   "metadata": {},
   "outputs": [],
   "source": [
    "extract_status, ats_score, missing_kw_list = extract_keywords(\n",
    "    jd, cv_to_use, company_name, company_country\n",
    ")\n",
    "\n",
    "if not extract_status:\n",
    "    assert False, \"Keyword extraction failed. Please check the logs.\"\n",
    "\n",
    "elif ats_score >= 70:\n",
    "    print(f\"ATS Score: {ats_score}, you will pass this round of screening.\\n\")\n",
    "    print(\"Still, you may want to consider adding the following keywords:\")\n",
    "    print(\"\\n\".join(missing_kw_list))\n",
    "\n",
    "else:\n",
    "    rec = show_popup_keyword(system_used, missing_kw_list, ats_score)\n",
    "    if rec == \"Decline suggestion\":\n",
    "        print(\"Process cancelled.\")\n",
    "    elif rec == \"Already changed\":\n",
    "        # shutil copy current cv to base.docx\n",
    "        shutil.copy(\n",
    "            cv_location.replace(\".pdf\", \".docx\"),\n",
    "            f\"{os.path.dirname(cv_location)}/base.docx\",\n",
    "        )\n",
    "        # Convert the docx file to pdf\n",
    "        base_docx_path = f\"{os.path.dirname(cv_location)}/base.docx\"\n",
    "        base_pdf_path = f\"{os.path.dirname(cv_location)}/base.pdf\"\n",
    "\n",
    "        # Convert the docx file to pdf\n",
    "        convert(base_docx_path, base_pdf_path)\n",
    "\n",
    "        # Read the PDF and keep only the first page\n",
    "        pdf_reader = PdfFileReader(base_pdf_path)\n",
    "        pdf_writer = PdfFileWriter()\n",
    "        pdf_writer.addPage(pdf_reader.getPage(0))\n",
    "\n",
    "        cv_path = f\"{os.path.dirname(cv_location)}/cv_with_keywords.pdf\"\n",
    "        with open(cv_path, \"wb\") as output_pdf:\n",
    "            pdf_writer.write(output_pdf)\n",
    "\n",
    "    else:\n",
    "        assert False, \"Invalid recommendation received.\""
   ]
  },
  {
   "cell_type": "markdown",
   "metadata": {},
   "source": [
    "## Step 4: Draft Cover Letter"
   ]
  },
  {
   "cell_type": "code",
   "execution_count": null,
   "metadata": {},
   "outputs": [],
   "source": [
    "if company_name == \"\" or company_name == \"None\":\n",
    "    assert False, \"Company name is empty.\"\n",
    "\n",
    "if additional_strength_to_mention.replace(\" \", \"\") == \"\":\n",
    "    additional_strength_to_mention = None\n",
    "\n",
    "prompt_cl = query_cover_letter(\n",
    "    one_sentence_bio,\n",
    "    job_title,\n",
    "    cv_to_use,\n",
    "    jd,\n",
    "    company_name,\n",
    "    additional_strength_to_mention=additional_strength_to_mention,\n",
    ")"
   ]
  },
  {
   "cell_type": "code",
   "execution_count": null,
   "metadata": {},
   "outputs": [],
   "source": [
    "answer = chatgpt(\"o1-preview\", prompt_cl, temp=1)\n",
    "match = re.search(\n",
    "    r\"Dear hiring manager,\\s*(.*)\\s*Sincerely,\", answer, re.DOTALL | re.IGNORECASE\n",
    ")\n",
    "\n",
    "if match:\n",
    "    extracted_text = (\n",
    "        match.group(1).strip()\n",
    "        if not no_need_form_pdf\n",
    "        else match.group(1).strip().replace(\"**\", \"\")\n",
    "    )\n",
    "    pyperclip.copy(extracted_text)\n",
    "    print(\"The content has been copied to the clipboard.\")\n",
    "    print(\"\")\n",
    "    print(extracted_text)\n",
    "else:\n",
    "    print(\"The specified text was not found. Please do it manually. Original answer:\")\n",
    "    print(answer)\n",
    "    raise SystemExit"
   ]
  },
  {
   "cell_type": "code",
   "execution_count": null,
   "metadata": {},
   "outputs": [],
   "source": [
    "extracted_text = shrink_text(extracted_text, threshold=300)"
   ]
  },
  {
   "cell_type": "code",
   "execution_count": null,
   "metadata": {},
   "outputs": [],
   "source": [
    "word_count = len(extracted_text.split())\n",
    "word_count"
   ]
  },
  {
   "cell_type": "markdown",
   "metadata": {},
   "source": [
    "## Step 5: Get my best Title for this Job"
   ]
  },
  {
   "cell_type": "code",
   "execution_count": null,
   "metadata": {},
   "outputs": [],
   "source": [
    "prompt_job_title = query_job_title(jd, cv_to_use, extracted_text)"
   ]
  },
  {
   "cell_type": "code",
   "execution_count": null,
   "metadata": {},
   "outputs": [],
   "source": [
    "proposed_job_title = chatgpt(\"chatgpt-4o-latest\", prompt_job_title)\n",
    "\n",
    "if \"*\" not in proposed_job_title:\n",
    "    proposed_job_title = \"**\" + proposed_job_title + \"**\"\n",
    "print(proposed_job_title)"
   ]
  },
  {
   "cell_type": "markdown",
   "metadata": {},
   "source": [
    "# Add Record"
   ]
  },
  {
   "cell_type": "code",
   "execution_count": null,
   "metadata": {},
   "outputs": [],
   "source": [
    "df_path = f\"{root}/Application History.xlsx\"\n",
    "if not os.path.exists(df_path):\n",
    "    df = pd.DataFrame(\n",
    "        columns=[\n",
    "            \"Date\",\n",
    "            \"Company_Name\",\n",
    "            \"Position_Name\",\n",
    "            \"CV_Used\",\n",
    "            \"Company_City\",\n",
    "            \"Company_State\",\n",
    "            \"Cover_Letter\",\n",
    "            \"Original_JD\",\n",
    "        ]\n",
    "    )\n",
    "    df.to_excel(df_path, index=False)"
   ]
  },
  {
   "cell_type": "code",
   "execution_count": null,
   "metadata": {},
   "outputs": [],
   "source": [
    "df = pd.read_excel(df_path, sheet_name=\"Sheet1\")\n",
    "first_sentence = extracted_text.split(\".\")[0]\n",
    "\n",
    "today = datetime.today().strftime(\"%B %d, %Y\")\n",
    "\n",
    "row = {\n",
    "    \"Date\": today,\n",
    "    \"Company Name\": company_name,\n",
    "    \"Position Name\": job_title,\n",
    "    \"Cover Letter\": f\"Cover Letter - {my_name}.pdf\",\n",
    "    \"CV Used\": cv_to_use,\n",
    "    \"Company City\": company_city,\n",
    "    \"Original_JD\": jd,\n",
    "}\n",
    "\n",
    "row_df = pd.DataFrame([row])\n",
    "df = pd.concat([df, row_df], ignore_index=True)\n",
    "df.fillna(\"\", inplace=True)\n",
    "df.drop_duplicates(subset=df.columns, keep=\"first\", inplace=True)\n",
    "\n",
    "df.to_excel(f\"{root}/Application History.xlsx\", index=False)"
   ]
  },
  {
   "cell_type": "markdown",
   "metadata": {},
   "source": [
    "# Notion"
   ]
  },
  {
   "cell_type": "code",
   "execution_count": null,
   "metadata": {},
   "outputs": [],
   "source": [
    "if no_need_form_pdf:\n",
    "    raise SystemExit\n",
    "\n",
    "if re.search(r\"_hk$\", cv_type):\n",
    "    paper_size = \"a4\"\n",
    "else:\n",
    "    paper_size = \"letter\""
   ]
  },
  {
   "cell_type": "code",
   "execution_count": null,
   "metadata": {},
   "outputs": [],
   "source": [
    "replace_job_title_success, block_id = replace_simple(\n",
    "    \"TBA Title\", proposed_job_title, page_id\n",
    ")\n",
    "print(replace_job_title_success)"
   ]
  },
  {
   "cell_type": "code",
   "execution_count": null,
   "metadata": {},
   "outputs": [],
   "source": [
    "replace_date_success, block_id = replace_simple(\"TBA Date\", today, page_id)\n",
    "print(replace_date_success)"
   ]
  },
  {
   "cell_type": "code",
   "execution_count": null,
   "metadata": {},
   "outputs": [],
   "source": [
    "if info_type == \"single_line\":\n",
    "    parsed_address = (\n",
    "        f\"{company_address_line_1}\\n{company_name}\\n{company_address_line_3}\"\n",
    "    )\n",
    "elif info_type == \"no_address\":\n",
    "    parsed_address = (\n",
    "        f\"{company_address_line_1}\\n{company_address_line_2}\\n{company_address_line_3}\"\n",
    "    )\n",
    "\n",
    "elif info_type == \"full_address\" and company_country != \"Hong Kong\":\n",
    "    parsed_address = f\"{company_address_line_1}\\n{company_address_line_2}\\n{company_city}, {company_state_two_letter}, {company_country}\"\n",
    "\n",
    "elif info_type == \"full_address\" and company_country == \"Hong Kong\":\n",
    "    parsed_address = (\n",
    "        f\"{company_name}\\n{company_address_line_1}\\n{company_address_line_2}, Hong Kong\"\n",
    "    )\n",
    "\n",
    "else:\n",
    "    assert False, \"Invalid info_type\""
   ]
  },
  {
   "cell_type": "code",
   "execution_count": null,
   "metadata": {},
   "outputs": [],
   "source": [
    "replace_address_success, block_id_address = replace_simple(\n",
    "    \"TBA Address\", parsed_address, page_id, change_color=True, color_to=\"default\"\n",
    ")"
   ]
  },
  {
   "cell_type": "code",
   "execution_count": null,
   "metadata": {},
   "outputs": [],
   "source": [
    "replace_main_text_success, block_id_main = replace_simple(\n",
    "    \"TBA Main Text\", extracted_text.strip(), page_id\n",
    ")"
   ]
  },
  {
   "cell_type": "code",
   "execution_count": null,
   "metadata": {},
   "outputs": [],
   "source": [
    "first_paragraph = extracted_text.split(\"\\n\")[0].replace(\"*\", \"\").strip()\n",
    "download_success = selenium_download_pdf(\n",
    "    service, options, download_folder, website, first_paragraph, paper_size\n",
    ")"
   ]
  },
  {
   "cell_type": "markdown",
   "metadata": {},
   "source": [
    "# Parse PDF"
   ]
  },
  {
   "cell_type": "code",
   "execution_count": null,
   "metadata": {},
   "outputs": [],
   "source": [
    "input_pdf_path = f\"{download_folder}/Cover Letter - {my_name}.pdf\"\n",
    "remove_blank_pages_from_pdf(input_pdf_path)"
   ]
  },
  {
   "cell_type": "markdown",
   "metadata": {},
   "source": [
    "# Copy CV, CL to Package Folder"
   ]
  },
  {
   "cell_type": "code",
   "execution_count": null,
   "metadata": {},
   "outputs": [],
   "source": [
    "cv_location"
   ]
  },
  {
   "cell_type": "code",
   "execution_count": null,
   "metadata": {},
   "outputs": [],
   "source": [
    "shutil.copy(cv_location, f\"{package_folder}/CV - {my_name}.pdf\")\n",
    "shutil.copy(\n",
    "    f\"{download_folder}/Cover Letter - {my_name}.pdf\",\n",
    "    f\"{package_folder}/Cover Letter - {my_name}.pdf\",\n",
    ")\n",
    "\n",
    "cl_backup_folder = f\"{root}/Cover Letter Backup\"\n",
    "shutil.copy(\n",
    "    f\"{package_folder}/Cover Letter - {my_name}.pdf\",\n",
    "    f\"{cl_backup_folder}/{today}_{company_name}_{company_city}.pdf\",\n",
    ")"
   ]
  },
  {
   "cell_type": "code",
   "execution_count": null,
   "metadata": {},
   "outputs": [],
   "source": [
    "# combine all three PDFs in package folder\n",
    "\n",
    "if showed_popup_1:\n",
    "    beep(system_used)\n",
    "    sequence = input(\n",
    "        \"Since GPT identified some modifications specefic to this JD, please enter the sequence of the PDFs to be combined, 1: CV; 2: CL; 3: Unofficial Transcript. e.g.: 123; 12; 13; 1, etc.\"\n",
    "    )\n",
    "else:\n",
    "    sequence = \"12\"\n",
    "\n",
    "merge_pdf(sequence, package_folder, my_name)"
   ]
  },
  {
   "cell_type": "markdown",
   "metadata": {},
   "source": [
    "# Recover to Template for next use"
   ]
  },
  {
   "cell_type": "code",
   "execution_count": null,
   "metadata": {},
   "outputs": [],
   "source": [
    "replace_simple(proposed_job_title.replace(\"*\", \"\"), \"TBA Title\", page_id)"
   ]
  },
  {
   "cell_type": "code",
   "execution_count": null,
   "metadata": {},
   "outputs": [],
   "source": [
    "replace_simple(today, \"TBA Date\", page_id)"
   ]
  },
  {
   "cell_type": "code",
   "execution_count": null,
   "metadata": {},
   "outputs": [],
   "source": [
    "replace_simple(company_address_line_1, \"TBA Address\", page_id)"
   ]
  },
  {
   "cell_type": "code",
   "execution_count": null,
   "metadata": {},
   "outputs": [],
   "source": [
    "blocks = get_page_blocks(page_id)\n",
    "\n",
    "start_text = \"Dear Hiring Manager,\"\n",
    "end_text = \"Sincerely,\"\n",
    "replacement_text = \"TBA Main Text\"\n",
    "\n",
    "replace_text_in_blocks(blocks, start_text, end_text, replacement_text)"
   ]
  }
 ],
 "metadata": {
  "kernelspec": {
   "display_name": "base",
   "language": "python",
   "name": "python3"
  },
  "language_info": {
   "codemirror_mode": {
    "name": "ipython",
    "version": 3
   },
   "file_extension": ".py",
   "mimetype": "text/x-python",
   "name": "python",
   "nbconvert_exporter": "python",
   "pygments_lexer": "ipython3",
   "version": "3.12.2"
  }
 },
 "nbformat": 4,
 "nbformat_minor": 2
}
