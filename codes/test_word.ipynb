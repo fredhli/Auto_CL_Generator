{
 "cells": [
  {
   "cell_type": "code",
   "execution_count": 1,
   "metadata": {},
   "outputs": [],
   "source": [
    "import shutil\n",
    "import os\n",
    "import re\n",
    "\n",
    "from docx import Document\n",
    "from docx.shared import Inches\n",
    "from docx import Document\n",
    "from docx.oxml.table import CT_Tbl\n",
    "from docx.oxml.text.paragraph import CT_P\n",
    "\n",
    "from config import *\n",
    "from gpt_functions import *\n",
    "from docx_functions import *"
   ]
  },
  {
   "cell_type": "code",
   "execution_count": 2,
   "metadata": {},
   "outputs": [],
   "source": [
    "jd = \"\"\"\n",
    "Finance Analyst Job Description:\n",
    "\n",
    "We are seeking a highly motivated and detail-oriented Finance Analyst to join our team. The successful candidate will be responsible for analyzing financial data, preparing reports, and providing insights to support decision-making processes. The ideal candidate should have strong analytical skills, excellent communication abilities, and a solid understanding of financial principles.\n",
    "\n",
    "Responsibilities:\n",
    "- Analyze financial data and create financial models for decision support\n",
    "- Prepare monthly, quarterly, and annual financial reports\n",
    "- Assist in budgeting and forecasting processes\n",
    "- Conduct variance analysis to identify trends, risks, and opportunities\n",
    "- Collaborate with cross-functional teams to provide financial insights and recommendations\n",
    "- Monitor financial performance and provide actionable insights to management\n",
    "- Support the development and implementation of financial policies and procedures\n",
    "- Perform ad-hoc financial analysis as required\n",
    "\n",
    "Qualifications:\n",
    "- Bachelor's degree in Finance, Accounting, Economics, or a related field\n",
    "- 2+ years of experience in financial analysis or a related role\n",
    "- Strong proficiency in Microsoft Excel and financial modeling\n",
    "- Experience with financial reporting and analysis tools\n",
    "- Excellent analytical and problem-solving skills\n",
    "- Strong attention to detail and accuracy\n",
    "- Ability to communicate complex financial information clearly and concisely\n",
    "- Knowledge of accounting principles and financial regulations\n",
    "- Ability to work independently and as part of a team\n",
    "\"\"\"\n",
    "# Paste job description above\n"
   ]
  },
  {
   "cell_type": "code",
   "execution_count": 3,
   "metadata": {},
   "outputs": [],
   "source": [
    "cv_path = rf\"D:\\Dropbox\\Documents\\JHt\\CV\\trader.docx\"\n",
    "cv_text = cv_doc_to_text(cv_path)"
   ]
  },
  {
   "cell_type": "code",
   "execution_count": 4,
   "metadata": {},
   "outputs": [
    {
     "name": "stdout",
     "output_type": "stream",
     "text": [
      "Fred H. Li\n",
      "fredhli@outlook.com  |  linkedin.com/in/fredhli  |  fredhli.github.io  |  +1 (770) 710-7006\n",
      "**EDUCATION**\n",
      "Washington University in St. Louis (WashU)St. Louis, MO, USA\n",
      "M.S. in Finance, QuantitativeSep 2023 – Dec 2024\n",
      "- GPA: 3.95/4.00, Rank 2/89\n",
      "- Honors: All-semester Dean’s List, Beta Gamma Sigma Award, Charles F. Knight Scholar (Expected)\n",
      "- Coursework: Continuous-Time Finance (Ph.D. Level), Stochastic Calculus, Exotic & Fixed Income Derivative Pricing,   Asset Pricing, Python and R Machine Learning, LASSO, SQL, Quantitative Risk Management, Corporate Finance I & II\n",
      "The University of Hong Kong (HKU)Hong Kong\n",
      "B.S. in Economics and FinanceSep 2017 – May 2021\n",
      "- GPA: 3.41/4.00, Rank top 35%, Awarded 2:1 Distinction, HKU Reaching Out Award (C.V. Starr Scholarship)\n",
      "- Admitted based on achieving top 0.07% province-ranking (143rd / 200,000) in National College Entrance Exam (Gaokao)\n",
      "Institut d'Études Politiques de Paris (Sciences Po)Paris, France\n",
      "Scholarship-Awarded Exchange StudentJan 2020 – May 2020\n",
      "**PROFESSIONAL EXPERIENCE**\n",
      "Olin Business School at Washington University in St. LouisSt. Louis, MO, USA\n",
      "Research InternMay 2024 – Present\n",
      "Overview: Data scientist focused on real-time sentiment tools to capture politically driven market opportunities\n",
      "- Developed a Selenium Chrome-driver scraper to extract congressional hearing scripts, fine-tuned BERT and its sub-models to improve sentiment classifications, transforming it into a novel text-based database for political research\n",
      "- Assisted in developing real-time political speech sentiment signal tool using congressional hearing database, enabling quick detection of politically driven market movements and capitalization on short-term trading opportunities\n",
      "- Conducted time-series analysis to identify a direct link between fiscal sentiment shocks and asset price changes, addressing omitted variable bias (OVB) by isolating sentiment effects from broader economic conditions\n",
      "Privium Fund ManagementHong Kong\n",
      "Portfolio ManagerApr 2022 – Dec 2022\n",
      "Overview: Co-managed US$200M AUM options selling strategy, overseeing algorithmic trading and risk management\n",
      "- Executed options selling strategy on index options, minimizing slippage and maximizing premiums with algorithmic trading\n",
      "- Integrated transaction costs, stop-loss mechanisms, and market impact analysis to guarantee accurate performance metrics\n",
      "- Applied risk models (Barra, Black-Litterman, Axioma, Greeks) for portfolio optimization and ensuring risk alignment\n",
      "- Managed liquidity and order book dynamics, performed portfolio stress testing to assure portfolio robustness \n",
      "Yong Rong AssetHong Kong\n",
      "Junior TraderJun 2021 – Jan 2022\n",
      "Overview: Research-focused buy-side trader at a fundamental high-conviction macro sub-fund with US$30M AUM\n",
      "- Participated in trading activities, maintained the firm's trading and reporting scripts to support execution\n",
      "- Drafted comprehensive research memos for U.S. space exploration, remote sensing, and Hong Kong machinery sectors\n",
      "Peak Global InvestmentsHong Kong\n",
      "Private Equity InternSep 2020 – May 2021\n",
      "Overview: Research and due diligence-focused intern while contributing to fund’s crypto and DeFi proprietary trading strategies\n",
      "- Researched cryptocurrency exchanges across Asia and Europe, liaised with senior executives to prepare for acquisitions\n",
      "- Analyzed client pain points and formulated pitch decks for management team in business development presentations\n",
      "- Collaborated with world’s largest crypto exchange, utilized API to assess targets’ trading volumes and their authenticity\n",
      "**PROJECT EXPERIENCE**\n",
      "Microstructure-Informed End-of-Day Frequency Trading StrategySt. Louis, MO, USA\n",
      "Trading Strategy DesignOct 2024 – Present\n",
      "- Currently developing a proprietary end-of-day (EOD) frequency trading strategy, leveraging market microstructure analysis to predict immediate price movements and execute rapid trades in the U.S. equities market\n",
      "- Predicted short-term price movements, optimized code for low-latency execution, back-tested using EOD dataset\n",
      "Hull-White Model Calibration for At-the-Money Caplets and CapsSt. Louis, MO, USA\n",
      "GitHub Repository: github.com/fredhli/Hull-White-Caplet-Calibration Mar 2024 – May 2024\n",
      "- Implemented closed-form and Monte-Carlo based price solutions to optimize Hull-White model parameters against Caplet market data, achieving high accuracy in long-maturity cap pricing >15 years with less than 3% function value loss\n",
      "**SKILLS AND QUALIFICATIONS**\n",
      "Certificates: CFA Level I, HKSFC Type-9 Asset Management License\n",
      "Teaching: TA for: Options, Futures and Derivative Securities (Undergraduate); Behavioral Finance (Graduate)\n",
      "Research: RA for: Research on PEVC-backed companies – under Prof. Minmo Gahng, Cornell University\n",
      "Volunteering: NGO Marketing Director, Soap Cycling HKU; Volunteer Teacher, Beyond the Pivot HKU\n",
      "Programming: Proficient in Python, R, SQL, Git, VBA, LaTeX; Intermediate in Stata, MATLAB; Basic in JavaScript\n",
      "Work Permits: Hong Kong SAR (Permanent Citizenship), Canada (OWP with Citizenship Assurance), USA (OPT)\n",
      "\n",
      "\n"
     ]
    }
   ],
   "source": [
    "print(cv_text)"
   ]
  },
  {
   "cell_type": "code",
   "execution_count": 5,
   "metadata": {},
   "outputs": [
    {
     "name": "stdout",
     "output_type": "stream",
     "text": [
      "['financial data analysis', 'financial models', 'financial reports', 'budgeting', 'forecasting', 'variance analysis', 'financial insights', 'financial performance monitoring', 'financial policies', 'ad-hoc financial analysis', 'Bachelor\\'s degree in Finance', 'financial analysis experience', 'Microsoft Excel', 'financial modeling', 'financial reporting', 'analytical skills', 'problem-solving skills', 'attention to detail', 'communication skills', 'accounting principles', 'financial regulations', 'teamwork']\n"
     ]
    }
   ],
   "source": [
    "kw_list = test_jd_keywords(jd, cv_text)\n",
    "print(kw_list)"
   ]
  },
  {
   "cell_type": "code",
   "execution_count": 6,
   "metadata": {},
   "outputs": [
    {
     "name": "stdout",
     "output_type": "stream",
     "text": [
      "{'- Developed a Selenium Chrome-driver scraper to extract congressional hearing scripts, fine-tuned BERT and its sub-models to improve sentiment classifications, transforming it into a novel text-based database for political research': '- Developed a Selenium Chrome-driver scraper to extract congressional hearing scripts, fine-tuned BERT and its sub-models to improve sentiment classifications, transforming it into a novel text-based database for political research, demonstrating strong analytical skills and attention to detail', '- Assisted in developing real-time political speech sentiment signal tool using congressional hearing database, enabling quick detection of politically driven market movements and capitalization on short-term trading opportunities': '- Assisted in developing real-time political speech sentiment signal tool using congressional hearing database, enabling quick detection of politically driven market movements and capitalization on short-term trading opportunities, showcasing problem-solving skills and teamwork', '- Conducted time-series analysis to identify a direct link between fiscal sentiment shocks and asset price changes, addressing omitted variable bias (OVB) by isolating sentiment effects from broader economic conditions': '- Conducted time-series analysis to identify a direct link between fiscal sentiment shocks and asset price changes, addressing omitted variable bias (OVB) by isolating sentiment effects from broader economic conditions, applying financial data analysis and financial insights', '- Executed options selling strategy on index options, minimizing slippage and maximizing premiums with algorithmic trading': '- Executed options selling strategy on index options, minimizing slippage and maximizing premiums with algorithmic trading, utilizing financial models and financial performance monitoring', '- Integrated transaction costs, stop-loss mechanisms, and market impact analysis to guarantee accurate performance metrics': '- Integrated transaction costs, stop-loss mechanisms, and market impact analysis to guarantee accurate performance metrics, ensuring adherence to financial policies and financial regulations', '- Applied risk models (Barra, Black-Litterman, Axioma, Greeks) for portfolio optimization and ensuring risk alignment': '- Applied risk models (Barra, Black-Litterman, Axioma, Greeks) for portfolio optimization and ensuring risk alignment, demonstrating strong analytical skills and financial modeling', '- Managed liquidity and order book dynamics, performed portfolio stress testing to assure portfolio robustness': '- Managed liquidity and order book dynamics, performed portfolio stress testing to assure portfolio robustness, highlighting financial analysis experience and problem-solving skills', \"- Participated in trading activities, maintained the firm's trading and reporting scripts to support execution\": \"- Participated in trading activities, maintained the firm's trading and reporting scripts to support execution, showcasing financial reporting and attention to detail\", '- Drafted comprehensive research memos for U.S. space exploration, remote sensing, and Hong Kong machinery sectors': '- Drafted comprehensive research memos for U.S. space exploration, remote sensing, and Hong Kong machinery sectors, demonstrating strong communication skills and analytical skills', '- Researched cryptocurrency exchanges across Asia and Europe, liaised with senior executives to prepare for acquisitions': '- Researched cryptocurrency exchanges across Asia and Europe, liaised with senior executives to prepare for acquisitions, applying financial data analysis and communication skills', '- Analyzed client pain points and formulated pitch decks for management team in business development presentations': '- Analyzed client pain points and formulated pitch decks for management team in business development presentations, showcasing problem-solving skills and communication skills', '- Collaborated with world’s largest crypto exchange, utilized API to assess targets’ trading volumes and their authenticity': '- Collaborated with world’s largest crypto exchange, utilized API to assess targets’ trading volumes and their authenticity, demonstrating teamwork and financial analysis experience', '- Currently developing a proprietary end-of-day (EOD) frequency trading strategy, leveraging market microstructure analysis to predict immediate price movements and execute rapid trades in the U.S. equities market': '- Currently developing a proprietary end-of-day (EOD) frequency trading strategy, leveraging market microstructure analysis to predict immediate price movements and execute rapid trades in the U.S. equities market, applying financial models and financial insights', '- Predicted short-term price movements, optimized code for low-latency execution, back-tested using EOD dataset': '- Predicted short-term price movements, optimized code for low-latency execution, back-tested using EOD dataset, demonstrating financial modeling and analytical skills', '- Implemented closed-form and Monte-Carlo based price solutions to optimize Hull-White model parameters against Caplet market data, achieving high accuracy in long-maturity cap pricing >15 years with less than 3% function value loss': '- Implemented closed-form and Monte-Carlo based price solutions to optimize Hull-White model parameters against Caplet market data, achieving high accuracy in long-maturity cap pricing >15 years with less than 3% function value loss, showcasing financial modeling and attention to detail'}\n"
     ]
    }
   ],
   "source": [
    "change_dic = get_cv_suggestion(kw_list, cv_text)\n",
    "print(change_dic)"
   ]
  },
  {
   "cell_type": "code",
   "execution_count": 20,
   "metadata": {},
   "outputs": [
    {
     "name": "stdout",
     "output_type": "stream",
     "text": [
      "Replaced 'Developed a Selenium Chrome-driver scraper to extract congressional hearing scripts, fine-tuned BERT and its sub-models to improve sentiment classifications, transforming it into a novel text-based database for political research' with 'Developed a Selenium Chrome-driver scraper to extract congressional hearing scripts, fine-tuned BERT and its sub-models to improve sentiment classifications, transforming it into a novel text-based database for political research, demonstrating strong analytical skills and attention to detail'\n",
      "Replaced 'Assisted in developing real-time political speech sentiment signal tool using congressional hearing database, enabling quick detection of politically driven market movements and capitalization on short-term trading opportunities' with 'Assisted in developing real-time political speech sentiment signal tool using congressional hearing database, enabling quick detection of politically driven market movements and capitalization on short-term trading opportunities, showcasing problem-solving skills and teamwork'\n",
      "Replaced 'Conducted time-series analysis to identify a direct link between fiscal sentiment shocks and asset price changes, addressing omitted variable bias (OVB) by isolating sentiment effects from broader economic conditions' with 'Conducted time-series analysis to identify a direct link between fiscal sentiment shocks and asset price changes, addressing omitted variable bias (OVB) by isolating sentiment effects from broader economic conditions, applying financial data analysis and financial insights'\n",
      "Replaced 'Executed options selling strategy on index options, minimizing slippage and maximizing premiums with algorithmic trading' with 'Executed options selling strategy on index options, minimizing slippage and maximizing premiums with algorithmic trading, utilizing financial models and financial performance monitoring'\n",
      "Replaced 'Integrated transaction costs, stop-loss mechanisms, and market impact analysis to guarantee accurate performance metrics' with 'Integrated transaction costs, stop-loss mechanisms, and market impact analysis to guarantee accurate performance metrics, ensuring adherence to financial policies and financial regulations'\n",
      "Replaced 'Applied risk models (Barra, Black-Litterman, Axioma, Greeks) for portfolio optimization and ensuring risk alignment' with 'Applied risk models (Barra, Black-Litterman, Axioma, Greeks) for portfolio optimization and ensuring risk alignment, demonstrating strong analytical skills and financial modeling'\n",
      "Replaced 'Managed liquidity and order book dynamics, performed portfolio stress testing to assure portfolio robustness' with 'Managed liquidity and order book dynamics, performed portfolio stress testing to assure portfolio robustness, highlighting financial analysis experience and problem-solving skills'\n",
      "Replaced 'Participated in trading activities, maintained the firm's trading and reporting scripts to support execution' with 'Participated in trading activities, maintained the firm's trading and reporting scripts to support execution, showcasing financial reporting and attention to detail'\n",
      "Replaced 'Drafted comprehensive research memos for U.S. space exploration, remote sensing, and Hong Kong machinery sectors' with 'Drafted comprehensive research memos for U.S. space exploration, remote sensing, and Hong Kong machinery sectors, demonstrating strong communication skills and analytical skills'\n",
      "Replaced 'Researched cryptocurrency exchanges across Asia and Europe, liaised with senior executives to prepare for acquisitions' with 'Researched cryptocurrency exchanges across Asia and Europe, liaised with senior executives to prepare for acquisitions, applying financial data analysis and communication skills'\n",
      "Replaced 'Analyzed client pain points and formulated pitch decks for management team in business development presentations' with 'Analyzed client pain points and formulated pitch decks for management team in business development presentations, showcasing problem-solving skills and communication skills'\n",
      "Replaced 'Collaborated with world’s largest crypto exchange, utilized API to assess targets’ trading volumes and their authenticity' with 'Collaborated with world’s largest crypto exchange, utilized API to assess targets’ trading volumes and their authenticity, demonstrating teamwork and financial analysis experience'\n",
      "Replaced 'Currently developing a proprietary end-of-day (EOD) frequency trading strategy, leveraging market microstructure analysis to predict immediate price movements and execute rapid trades in the U.S. equities market' with 'Currently developing a proprietary end-of-day (EOD) frequency trading strategy, leveraging market microstructure analysis to predict immediate price movements and execute rapid trades in the U.S. equities market, applying financial models and financial insights'\n",
      "Replaced 'Predicted short-term price movements, optimized code for low-latency execution, back-tested using EOD dataset' with 'Predicted short-term price movements, optimized code for low-latency execution, back-tested using EOD dataset, demonstrating financial modeling and analytical skills'\n",
      "Replaced 'Implemented closed-form and Monte-Carlo based price solutions to optimize Hull-White model parameters against Caplet market data, achieving high accuracy in long-maturity cap pricing >15 years with less than 3% function value loss' with 'Implemented closed-form and Monte-Carlo based price solutions to optimize Hull-White model parameters against Caplet market data, achieving high accuracy in long-maturity cap pricing >15 years with less than 3% function value loss, showcasing financial modeling and attention to detail'\n"
     ]
    },
    {
     "data": {
      "text/plain": [
       "'D:\\\\Dropbox\\\\Documents\\\\JHt\\\\CV\\\\trader_Morgan Stanley_tailored.docx'"
      ]
     },
     "execution_count": 20,
     "metadata": {},
     "output_type": "execute_result"
    }
   ],
   "source": [
    "import importlib\n",
    "import docx_functions\n",
    "importlib.reload(docx_functions)\n",
    "from docx_functions import change_cv_accordingly\n",
    "\n",
    "change_cv_accordingly(company_name=\"Morgan Stanley\", change_dict=change_dic, cv_path=cv_path)"
   ]
  },
  {
   "cell_type": "code",
   "execution_count": 29,
   "metadata": {},
   "outputs": [],
   "source": [
    "# get first key from dictionary\n",
    "old = list(change_dic.keys())[0]"
   ]
  },
  {
   "cell_type": "code",
   "execution_count": 40,
   "metadata": {},
   "outputs": [],
   "source": [
    "old = re.sub(r\"^- \", \"\", old).strip()"
   ]
  },
  {
   "cell_type": "code",
   "execution_count": 41,
   "metadata": {},
   "outputs": [
    {
     "data": {
      "text/plain": [
       "'Developed a Selenium Chrome-driver scraper to extract congressional hearing scripts, fine-tuned BERT and its sub-models to improve sentiment classifications, transforming it into a novel text-based database for political research'"
      ]
     },
     "execution_count": 41,
     "metadata": {},
     "output_type": "execute_result"
    }
   ],
   "source": [
    "old"
   ]
  },
  {
   "cell_type": "code",
   "execution_count": 43,
   "metadata": {},
   "outputs": [
    {
     "name": "stdout",
     "output_type": "stream",
     "text": [
      "Developed a Selenium Chrome-driver scraper to extract congressional hearing scripts, fine-tuned BERT and its sub-models to improve sentiment classifications, transforming it into a novel text-based database for political research\n"
     ]
    }
   ],
   "source": [
    "doc = Document(cv_path)\n",
    "for para in doc.paragraphs:\n",
    "    if para.text.strip() == old:\n",
    "        print(para.text)"
   ]
  },
  {
   "cell_type": "code",
   "execution_count": 34,
   "metadata": {},
   "outputs": [
    {
     "name": "stdout",
     "output_type": "stream",
     "text": [
      "para:\n",
      "Fred H. Li\n",
      "para:\n",
      "fredhli@outlook.com  |  linkedin.com/in/fredhli  |  fredhli.github.io  |  +1 (770) 710-7006\n",
      "para:\n",
      "EDUCATION\n",
      "para:\n",
      "Washington University in St. Louis (WashU)\tSt. Louis, MO, USA\n",
      "para:\n",
      "M.S. in Finance, Quantitative\tSep 2023 – Dec 2024\n",
      "para:\n",
      "GPA: 3.95/4.00, Rank 2/89\n",
      "para:\n",
      "Honors: All-semester Dean’s List, Beta Gamma Sigma Award, Charles F. Knight Scholar (Expected)\n",
      "para:\n",
      "Coursework: Continuous-Time Finance (Ph.D. Level), Stochastic Calculus, Exotic & Fixed Income Derivative Pricing,   Asset Pricing, Python and R Machine Learning, LASSO, SQL, Quantitative Risk Management, Corporate Finance I & II\n",
      "para:\n",
      "The University of Hong Kong (HKU)\tHong Kong\n",
      "para:\n",
      "B.S. in Economics and Finance\tSep 2017 – May 2021\n",
      "para:\n",
      "GPA: 3.41/4.00, Rank top 35%, Awarded 2:1 Distinction, HKU Reaching Out Award (C.V. Starr Scholarship)\n",
      "para:\n",
      "Admitted based on achieving top 0.07% province-ranking (143rd / 200,000) in National College Entrance Exam (Gaokao)\n",
      "para:\n",
      "Institut d'Études Politiques de Paris (Sciences Po)\tParis, France\n",
      "para:\n",
      "Scholarship-Awarded Exchange Student\tJan 2020 – May 2020\n",
      "para:\n",
      "PROFESSIONAL EXPERIENCE\n",
      "para:\n",
      "Olin Business School at Washington University in St. Louis\tSt. Louis, MO, USA\n",
      "para:\n",
      "Research Intern\tMay 2024 – Present\n",
      "para:\n",
      "Overview: Data scientist focused on real-time sentiment tools to capture politically driven market opportunities\n",
      "para:\n",
      "Developed a Selenium Chrome-driver scraper to extract congressional hearing scripts, fine-tuned BERT and its sub-models to improve sentiment classifications, transforming it into a novel text-based database for political research\n",
      "para:\n",
      "Assisted in developing real-time political speech sentiment signal tool using congressional hearing database, enabling quick detection of politically driven market movements and capitalization on short-term trading opportunities\n",
      "para:\n",
      "Conducted time-series analysis to identify a direct link between fiscal sentiment shocks and asset price changes, addressing omitted variable bias (OVB) by isolating sentiment effects from broader economic conditions\n",
      "para:\n",
      "Privium Fund Management\tHong Kong\n",
      "para:\n",
      "Portfolio Manager\tApr 2022 – Dec 2022\n",
      "para:\n",
      "Overview: Co-managed US$200M AUM options selling strategy, overseeing algorithmic trading and risk management\n",
      "para:\n",
      "Executed options selling strategy on index options, minimizing slippage and maximizing premiums with algorithmic trading\n",
      "para:\n",
      "Integrated transaction costs, stop-loss mechanisms, and market impact analysis to guarantee accurate performance metrics\n",
      "para:\n",
      "Applied risk models (Barra, Black-Litterman, Axioma, Greeks) for portfolio optimization and ensuring risk alignment\n",
      "para:\n",
      "Managed liquidity and order book dynamics, performed portfolio stress testing to assure portfolio robustness \n",
      "para:\n",
      "Yong Rong Asset\tHong Kong\n",
      "para:\n",
      "Junior Trader\tJun 2021 – Jan 2022\n",
      "para:\n",
      "Overview: Research-focused buy-side trader at a fundamental high-conviction macro sub-fund with US$30M AUM\n",
      "para:\n",
      "Participated in trading activities, maintained the firm's trading and reporting scripts to support execution\n",
      "para:\n",
      "Drafted comprehensive research memos for U.S. space exploration, remote sensing, and Hong Kong machinery sectors\n",
      "para:\n",
      "Peak Global Investments\tHong Kong\n",
      "para:\n",
      "Private Equity Intern\tSep 2020 – May 2021\n",
      "para:\n",
      "Overview: Research and due diligence-focused intern while contributing to fund’s crypto and DeFi proprietary trading strategies\n",
      "para:\n",
      "Researched cryptocurrency exchanges across Asia and Europe, liaised with senior executives to prepare for acquisitions\n",
      "para:\n",
      "Analyzed client pain points and formulated pitch decks for management team in business development presentations\n",
      "para:\n",
      "Collaborated with world’s largest crypto exchange, utilized API to assess targets’ trading volumes and their authenticity\n",
      "para:\n",
      "PROJECT EXPERIENCE\n",
      "para:\n",
      "Microstructure-Informed End-of-Day Frequency Trading Strategy\tSt. Louis, MO, USA\n",
      "para:\n",
      "Trading Strategy Design\tOct 2024 – Present\n",
      "para:\n",
      "Currently developing a proprietary end-of-day (EOD) frequency trading strategy, leveraging market microstructure analysis to predict immediate price movements and execute rapid trades in the U.S. equities market\n",
      "para:\n",
      "Predicted short-term price movements, optimized code for low-latency execution, back-tested using EOD dataset\n",
      "para:\n",
      "Hull-White Model Calibration for At-the-Money Caplets and Caps\tSt. Louis, MO, USA\n",
      "para:\n",
      "GitHub Repository: github.com/fredhli/Hull-White-Caplet-Calibration \tMar 2024 – May 2024\n",
      "para:\n",
      "Implemented closed-form and Monte-Carlo based price solutions to optimize Hull-White model parameters against Caplet market data, achieving high accuracy in long-maturity cap pricing >15 years with less than 3% function value loss\n",
      "para:\n",
      "SKILLS AND QUALIFICATIONS\n",
      "para:\n",
      "\n"
     ]
    }
   ],
   "source": [
    "for para in doc.paragraphs:\n",
    "    print('para:')\n",
    "    print(para.text)\n"
   ]
  }
 ],
 "metadata": {
  "kernelspec": {
   "display_name": "base",
   "language": "python",
   "name": "python3"
  },
  "language_info": {
   "codemirror_mode": {
    "name": "ipython",
    "version": 3
   },
   "file_extension": ".py",
   "mimetype": "text/x-python",
   "name": "python",
   "nbconvert_exporter": "python",
   "pygments_lexer": "ipython3",
   "version": "3.11.7"
  }
 },
 "nbformat": 4,
 "nbformat_minor": 2
}
