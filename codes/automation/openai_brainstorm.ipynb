{
 "cells": [
  {
   "cell_type": "code",
   "execution_count": null,
   "metadata": {},
   "outputs": [],
   "source": [
    "import pandas as pd\n",
    "from openai import OpenAI\n",
    "from os import path\n",
    "from glob import glob\n",
    "\n",
    "# if any pack not installed, simply add a code below, type: !pip install pack_name, run it"
   ]
  },
  {
   "cell_type": "code",
   "execution_count": null,
   "metadata": {},
   "outputs": [],
   "source": [
    "root = fr'D:\\Dropbox\\Documents\\JHt\\automation'\n",
    "# set the root directory to your local folder"
   ]
  },
  {
   "cell_type": "code",
   "execution_count": null,
   "metadata": {},
   "outputs": [],
   "source": [
    "\"\"\"\n",
    "Copy the company list GPT provided to you to a text file, seperate by \"; \" (you can ask GPT to provide the list in this format)\n",
    "Save it to the folder\n",
    "You can save them to multiple text files as long as they are in the same folder.\n",
    "\n",
    "\"\"\"\n",
    "\n",
    "company_txts = glob(root + '*.txt')\n",
    "# sort the list by name\n",
    "company_txts.sort()"
   ]
  },
  {
   "cell_type": "code",
   "execution_count": null,
   "metadata": {},
   "outputs": [],
   "source": [
    "company_txts"
   ]
  },
  {
   "cell_type": "code",
   "execution_count": null,
   "metadata": {},
   "outputs": [],
   "source": [
    "companies = []\n",
    "for txt in company_txts:\n",
    "    with open(txt, 'r') as f:\n",
    "        lines = f.readlines()\n",
    "        companies_temp = [x.strip() for x in lines[0].split(';')]\n",
    "        companies.extend(companies_temp)"
   ]
  },
  {
   "cell_type": "code",
   "execution_count": null,
   "metadata": {},
   "outputs": [],
   "source": [
    "df = pd.DataFrame(companies, columns=['company_name', 'url', 'excel_hyperlink', 'status'])\n",
    "df.fillna('', inplace=True)\n",
    "df.sort_values('company_name', inplace=True)"
   ]
  },
  {
   "cell_type": "code",
   "execution_count": null,
   "metadata": {},
   "outputs": [],
   "source": [
    "df.drop_duplicates(subset=['company_name'], keep='first', inplace=True)"
   ]
  },
  {
   "cell_type": "code",
   "execution_count": null,
   "metadata": {},
   "outputs": [],
   "source": [
    "import urllib.parse\n",
    "df['url'] = df['company_name'].apply(lambda x: f'https://www.google.com/search?q={urllib.parse.quote(x)}+careers')"
   ]
  },
  {
   "cell_type": "code",
   "execution_count": null,
   "metadata": {},
   "outputs": [],
   "source": [
    "df['excel_hyperlink'] = df['url'].apply(lambda x: f'=HYPERLINK(\"{x}\")')"
   ]
  },
  {
   "cell_type": "code",
   "execution_count": null,
   "metadata": {},
   "outputs": [],
   "source": [
    "df.to_excel(root + 'companies.xlsx', index=False)"
   ]
  },
  {
   "cell_type": "markdown",
   "metadata": {},
   "source": [
    "If you want to ask ChatGPT questions programatically, follow steps after"
   ]
  },
  {
   "cell_type": "code",
   "execution_count": null,
   "metadata": {},
   "outputs": [],
   "source": [
    "import time"
   ]
  },
  {
   "cell_type": "code",
   "execution_count": null,
   "metadata": {},
   "outputs": [],
   "source": [
    "df = pd.read_excel(root + 'companies.xlsx')"
   ]
  },
  {
   "cell_type": "code",
   "execution_count": null,
   "metadata": {},
   "outputs": [],
   "source": [
    "df[['desired_job_probability', 'desired_job_reasoning']] = ''"
   ]
  },
  {
   "cell_type": "code",
   "execution_count": null,
   "metadata": {},
   "outputs": [],
   "source": [
    "api_key = 'sk-_____________________' # your openai api key"
   ]
  },
  {
   "cell_type": "code",
   "execution_count": null,
   "metadata": {},
   "outputs": [],
   "source": [
    "client = OpenAI(api_key=api_key)\n",
    "\n",
    "for i, row in df.iterrows():\n",
    "    company_name = row['company_name']\n",
    "    query = f'''I am interested in working as a trader. Here, I will provide you with a company name. Use your own judgement and knowledge base,\\\n",
    "        tell me the possibility that this company has a trader position or not. \"1\" means the company has to have a trader position, otherwise it should not be able \\\n",
    "        to continously operate; \"0\" means this company surely does not have a trader position, its operation has nothing to do with trading. \\\n",
    "        Please provide me with the reasoning as well: for example, your knowledge base already owns the information that this company has a trader position, or the nature of \\\n",
    "        this company's operation requires a trader position, etc.\n",
    "        \n",
    "        Note, keep your judgement consistent and base solely on your knowledge base. I will show several companies' names twice, if you provide completely different answers, \\\n",
    "        I will discard your answers.\n",
    "\n",
    "        Here are some examples:\n",
    "        Company Name: HSBC Asset Management; Score: 1; Reasoning: My knowledge base confirms HSBC has asset management division, which requires a trader position.\n",
    "        Company Name: BMO Capital Markets; Score: 1; Reasoning: My knowledge base confirms BMO Capital Markets includes its trading division.\n",
    "        Company Name: Ewing Morris & Co Investment Partners Ltd. Score: 0.2; Reasoning: My knowledge base confirms Ewing Morris & Co Investment Partners Ltd. is a private equity firm, which is not likely to require a trader position.\n",
    "\n",
    "        Now, it is your turn. Company Name: {company_name}; Score and Reasoning: '''\n",
    "\n",
    "    model = \"gpt-4o-mini\"\n",
    "    chat_completion = client.chat.completions.create(\n",
    "        messages=[\n",
    "            {\n",
    "                \"role\": \"user\",\n",
    "                \"content\": query,\n",
    "            }\n",
    "        ],\n",
    "        model=model,\n",
    "        temperature=0.1\n",
    "    )\n",
    "    answer = chat_completion.choices[0].message.content\n",
    "        \n",
    "    df.at[i, 'desired_job_reasoning'] = answer\n",
    "    print(f'Completed {i} companies.')\n",
    "    time.sleep(1)\n",
    "    \n",
    "    if i % 10 == 0:\n",
    "        df.to_csv(path.join(root, 'df_temp.csv'), index=False)"
   ]
  },
  {
   "cell_type": "code",
   "execution_count": null,
   "metadata": {},
   "outputs": [],
   "source": [
    "df.to_csv(path.join(root, 'df_temp.csv'), index=False)"
   ]
  },
  {
   "cell_type": "code",
   "execution_count": null,
   "metadata": {},
   "outputs": [],
   "source": [
    "import re\n",
    "\n",
    "pattern = r'Score: ([0-9.]+); Reasoning: (.+)'\n",
    "\n",
    "df['desired_job_probability'] = df['desired_job_reasoning'].apply(lambda x: float(re.search(pattern, x).group(1)))\n",
    "df['desired_job_reasoning'] = df['desired_job_reasoning'].apply(lambda x: re.search(pattern, x).group(2))"
   ]
  },
  {
   "cell_type": "code",
   "execution_count": null,
   "metadata": {},
   "outputs": [],
   "source": [
    "df['desired_job_probability'].describe()"
   ]
  },
  {
   "cell_type": "code",
   "execution_count": null,
   "metadata": {},
   "outputs": [],
   "source": [
    "df.to_excel(root + 'companies.xlsx', index=False)"
   ]
  }
 ],
 "metadata": {
  "language_info": {
   "name": "python"
  }
 },
 "nbformat": 4,
 "nbformat_minor": 2
}
